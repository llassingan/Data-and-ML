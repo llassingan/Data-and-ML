{
  "nbformat": 4,
  "nbformat_minor": 0,
  "metadata": {
    "colab": {
      "name": "tugasakhir.ipynb",
      "provenance": [],
      "collapsed_sections": [
        "YaCRERVacZ2d"
      ]
    },
    "kernelspec": {
      "name": "python3",
      "display_name": "Python 3"
    }
  },
  "cells": [
    {
      "cell_type": "markdown",
      "metadata": {
        "id": "HwzDNMO0fzSy"
      },
      "source": [
        "#ALMANIK BALINGGA\r\n",
        "## email : almanik.balingga3@gmail.com"
      ]
    },
    {
      "cell_type": "code",
      "metadata": {
        "colab": {
          "base_uri": "https://localhost:8080/"
        },
        "id": "WvQqvsgCXtyL",
        "outputId": "9ac26612-5cc1-42fb-b25a-584d10a4ee5e"
      },
      "source": [
        "from google.colab import drive\n",
        "drive.mount('/gdrive')\n",
        "%cd /gdrive/My Drive/SANBERCODE/ADVANCE_PYTHON/week2"
      ],
      "execution_count": 1,
      "outputs": [
        {
          "output_type": "stream",
          "text": [
            "Mounted at /gdrive\n",
            "/gdrive/My Drive/SANBERCODE/ADVANCE_PYTHON/week2\n"
          ],
          "name": "stdout"
        }
      ]
    },
    {
      "cell_type": "markdown",
      "metadata": {
        "id": "uI54DN5McWcO"
      },
      "source": [
        "#Import Library"
      ]
    },
    {
      "cell_type": "code",
      "metadata": {
        "colab": {
          "base_uri": "https://localhost:8080/"
        },
        "id": "3bEYlv-_07J9",
        "outputId": "0d6b1f16-0555-49a3-8a10-dc736d74f1b3"
      },
      "source": [
        "!pip install --upgrade git+https://github.com/ariaghora/mpstemmer.git\r\n",
        "!pip install Levenshtein"
      ],
      "execution_count": 2,
      "outputs": [
        {
          "output_type": "stream",
          "text": [
            "Collecting git+https://github.com/ariaghora/mpstemmer.git\n",
            "  Cloning https://github.com/ariaghora/mpstemmer.git to /tmp/pip-req-build-69b8717m\n",
            "  Running command git clone -q https://github.com/ariaghora/mpstemmer.git /tmp/pip-req-build-69b8717m\n",
            "Building wheels for collected packages: mpstemmer\n",
            "  Building wheel for mpstemmer (setup.py) ... \u001b[?25l\u001b[?25hdone\n",
            "  Created wheel for mpstemmer: filename=mpstemmer-0.1.0-cp36-none-any.whl size=99821 sha256=f85fd4821a85c6028321941674f7d5aded4d4e8bc45247fc5eed8a830c9d074e\n",
            "  Stored in directory: /tmp/pip-ephem-wheel-cache-pojqfcrx/wheels/9c/3f/58/55de6c379422be93261b1d39769b89101141d640b2dbb61563\n",
            "Successfully built mpstemmer\n",
            "Installing collected packages: mpstemmer\n",
            "Successfully installed mpstemmer-0.1.0\n",
            "Collecting Levenshtein\n",
            "\u001b[?25l  Downloading https://files.pythonhosted.org/packages/7b/70/8a946e92a49a2e38772e50b2f310088c346b5cd3e797f8370ac68d12f9b0/levenshtein-0.12.0-cp36-cp36m-manylinux1_x86_64.whl (157kB)\n",
            "\u001b[K     |████████████████████████████████| 163kB 5.7MB/s \n",
            "\u001b[?25hRequirement already satisfied: setuptools in /usr/local/lib/python3.6/dist-packages (from Levenshtein) (53.0.0)\n",
            "Installing collected packages: Levenshtein\n",
            "Successfully installed Levenshtein-0.12.0\n"
          ],
          "name": "stdout"
        }
      ]
    },
    {
      "cell_type": "code",
      "metadata": {
        "id": "r_q7Eef76iyH",
        "colab": {
          "base_uri": "https://localhost:8080/"
        },
        "outputId": "e3b52429-c59b-47d7-e2a4-4cb3983f9e71"
      },
      "source": [
        "import tweepy\r\n",
        "import pandas as pd\r\n",
        "import numpy as np\r\n",
        "import sqlite3\r\n",
        "\r\n",
        "import re\r\n",
        "import nltk\r\n",
        "from nltk.corpus import stopwords\r\n",
        "nltk.download('punkt')\r\n",
        "nltk.download('stopwords')\r\n",
        "from nltk.tokenize import word_tokenize\r\n",
        "import string\r\n",
        "from mpstemmer import MPStemmer"
      ],
      "execution_count": 3,
      "outputs": [
        {
          "output_type": "stream",
          "text": [
            "[nltk_data] Downloading package punkt to /root/nltk_data...\n",
            "[nltk_data]   Unzipping tokenizers/punkt.zip.\n",
            "[nltk_data] Downloading package stopwords to /root/nltk_data...\n",
            "[nltk_data]   Unzipping corpora/stopwords.zip.\n"
          ],
          "name": "stdout"
        }
      ]
    },
    {
      "cell_type": "markdown",
      "metadata": {
        "id": "YaCRERVacZ2d"
      },
      "source": [
        "#GET DATA DAN STORE DATA KE DALAM DB\r\n",
        "##bisa dilewati karena sudah disiapkan file db nya"
      ]
    },
    {
      "cell_type": "code",
      "metadata": {
        "id": "Ndj2SAg97De5"
      },
      "source": [
        "auth = pd.read_csv('auth.csv')"
      ],
      "execution_count": null,
      "outputs": []
    },
    {
      "cell_type": "code",
      "metadata": {
        "id": "m2aEBGXF8gz6"
      },
      "source": [
        "cons = auth.iloc[0,0] #consumerkey\r\n",
        "consSec = auth.iloc[1,0] #consumer secret key\r\n",
        "token = auth.iloc[3,0] #token\r\n",
        "tokenSec = auth.iloc[4,0] #token secret"
      ],
      "execution_count": null,
      "outputs": []
    },
    {
      "cell_type": "code",
      "metadata": {
        "id": "kZhn1W2e99zu"
      },
      "source": [
        "_auth = tweepy.OAuthHandler(cons, consSec)\r\n",
        "_auth.set_access_token(token, tokenSec)\r\n",
        "api = tweepy.API(_auth)"
      ],
      "execution_count": null,
      "outputs": []
    },
    {
      "cell_type": "code",
      "metadata": {
        "id": "5gbYJjYNj-4H"
      },
      "source": [
        "#hilangkan tanda baca\r\n",
        "def deletePunct(kalimat):\r\n",
        "  return kalimat.translate(str.maketrans(\"\",\"\",string.punctuation))\r\n",
        "\r\n",
        "#angka\r\n",
        "def deleteNum(kalimat):\r\n",
        "  return re.sub(r\"\\d+\", \"\", kalimat)\r\n",
        "\r\n",
        "#whitespace\r\n",
        "def deleteWs(kalimat):\r\n",
        "  return kalimat.strip()\r\n",
        "#stopword\r\n",
        "def delStopWord(kalimat, stop):\r\n",
        "  tmp = kalimat.split()\r\n",
        "  res = [kata for kata in tmp if kata not in stop]\r\n",
        "  return res\r\n",
        "\r\n",
        "def stemming(kalimat):\r\n",
        "  stemmer = MPStemmer()\r\n",
        "  stemres =[stemmer.stem(kata) for kata in kalimat]\r\n",
        "  return ' '.join(stemres)\r\n",
        "\r\n",
        "def normalisasi(kalimat,salah,benar):\r\n",
        "  temp = kalimat.split()\r\n",
        "  for i in range(len(temp)):\r\n",
        "    idx = 0\r\n",
        "    if temp[i] in salah:\r\n",
        "      temp[i] = benar[salah.index(temp[i])]\r\n",
        "  return ' '.join(temp)\r\n",
        "\r\n",
        "#eksekusi semua + pengecilan huruf\r\n",
        "def process(kalimat,stop,salah,benar):\r\n",
        "  kalimat = kalimat.lower()\r\n",
        "  temp = deleteWs(deletePunct(deleteNum(normalisasi(kalimat,salah,benar))))\r\n",
        "  return delStopWord(temp,stop)"
      ],
      "execution_count": null,
      "outputs": []
    },
    {
      "cell_type": "code",
      "metadata": {
        "id": "5YVg_Pm_bzwi"
      },
      "source": [
        "def storeuser(id,username,nama,lokasi,tglregis,pengikut,teman,verif):\r\n",
        "  connection = sqlite3.connect('dbtugasfix.db')\r\n",
        "  cursor = connection.cursor()\r\n",
        "  query = 'INSERT INTO User (userid, name, screenname, location, accountcreated, follower, friend, verified) VALUES (?,?,?,?,?,?,?,?);'\r\n",
        "  value =(id,username,nama,lokasi,tglregis,pengikut,teman,verif)\r\n",
        "  # try:\r\n",
        "  #       cursor.execute(query,value)\r\n",
        "  #       connection.commit()\r\n",
        "  # except:\r\n",
        "  #       print(\"next\")\r\n",
        "  cursor.execute(query,value)\r\n",
        "  connection.commit()\r\n",
        "  \r\n",
        "  "
      ],
      "execution_count": null,
      "outputs": []
    },
    {
      "cell_type": "code",
      "metadata": {
        "id": "8c3Y6Mbfb007"
      },
      "source": [
        "def storetweet(idtwit,idusernya,tgltwit,twit,retwit,rtfull,uname,cleantweet):\r\n",
        "  connection = sqlite3.connect('dbtugasfix.db')\r\n",
        "  cursor = connection.cursor()\r\n",
        "  query = 'INSERT INTO Tweet (tweetid,userid, createddate, tweet, cleantweet,isretweet,rttext,rtuser) VALUES (?,?,?,?,?,?,?,?);'\r\n",
        "  value = (idtwit,idusernya,tgltwit,twit,cleantweet,retwit,rtfull,uname)\r\n",
        "  # try:\r\n",
        "  #       cursor.execute(query,value)\r\n",
        "  #       connection.commit()\r\n",
        "  # except:\r\n",
        "  #       print(\"next\")\r\n",
        "  cursor.execute(query,value)\r\n",
        "  connection.commit()\r\n",
        "  "
      ],
      "execution_count": null,
      "outputs": []
    },
    {
      "cell_type": "code",
      "metadata": {
        "id": "A0dSzjHMbtT6"
      },
      "source": [
        "def storeData(tweet,kecuali,salah,benar):\r\n",
        "  userid = tweet.user.id\r\n",
        "  name = tweet.user.name\r\n",
        "  screenname = tweet.user.screen_name\r\n",
        "  location = tweet.user.location\r\n",
        "  accountcreated = tweet.user.created_at\r\n",
        "  follower = tweet.user.followers_count\r\n",
        "  friend = tweet.user.friends_count\r\n",
        "  if (tweet.user.verified == True):\r\n",
        "    verified = 1\r\n",
        "  else:\r\n",
        "    verified = 0\r\n",
        "  tweetid = tweet.id\r\n",
        "  tweets = tweet.full_text\r\n",
        "  createddate = tweet.created_at\r\n",
        "    \r\n",
        "    # tambahan\r\n",
        "  x = tweet.full_text.split()\r\n",
        "  # jika retweet maka yg diambil adalah tweet asli \r\n",
        "  if 'RT' in x:\r\n",
        "    isrt = 1\r\n",
        "    rttext = tweet.retweeted_status.full_text\r\n",
        "    rtstatus = stemming(process(rttext,kecuali,salah,benar))\r\n",
        "    rtuser = tweet.retweeted_status.user.name\r\n",
        "  else:\r\n",
        "    isrt = 0\r\n",
        "    rtstatus = \"\"\r\n",
        "    rtuser = \"\"\r\n",
        "  cleantweet = stemming(process(tweets,kecuali,salah,benar))\r\n",
        "  #store data user\r\n",
        "  storeuser(userid,name,screenname,location,accountcreated,follower,friend,verified)\r\n",
        "  storetweet(tweetid, userid, createddate, tweets, isrt,rtstatus,rtuser,cleantweet)"
      ],
      "execution_count": null,
      "outputs": []
    },
    {
      "cell_type": "code",
      "metadata": {
        "id": "VsxxnWWXL1gU"
      },
      "source": [
        "def searchquery(api):\r\n",
        "  #Judul saya adalah sertifikat tanah elektronik\r\n",
        "  query = 'sertifikat tanah elektronik'\r\n",
        "  max = 2000\r\n",
        "  #menggunakan parameter lang=id untuk lebih menyaring penggunaan bahasa indonesia agar mendapat hasil stopwords maksimal\r\n",
        "  #menggunakan cursor karena jika hanya menggunakan search terbatas 100 tweet\r\n",
        "  searched_tweets = [status for status in tweepy.Cursor(api.search,q=query,result_type='mixed',since=\"2021-02-01\",lang='id',tweet_mode='extended').items(max)]\r\n",
        "  return searched_tweets"
      ],
      "execution_count": null,
      "outputs": []
    },
    {
      "cell_type": "code",
      "metadata": {
        "id": "5WqSdiv21KOp"
      },
      "source": [
        "kecuali = set(stopwords.words('indonesian'))\r\n",
        "kataaman = ['tidak','kurang','sedikit','banyak','lebih']\r\n",
        "kecuali = [kata for kata in kecuali if kata not in kataaman]"
      ],
      "execution_count": null,
      "outputs": []
    },
    {
      "cell_type": "code",
      "metadata": {
        "id": "AdPnWN13wBkV"
      },
      "source": [
        "mentah = searchquery(api)"
      ],
      "execution_count": null,
      "outputs": []
    },
    {
      "cell_type": "code",
      "metadata": {
        "id": "_R3PfmYHCEJc"
      },
      "source": [
        "normal = pd.read_csv(\"normal.csv\")"
      ],
      "execution_count": null,
      "outputs": []
    },
    {
      "cell_type": "code",
      "metadata": {
        "id": "FrWwZf9p7rMz"
      },
      "source": [
        "#try dan except digunakan disini agar data yang masuk tiap tweet unik, sehingga 1 opini diwakili oleh 1 tweet\r\n",
        "for i in range(len(mentah)):\r\n",
        "  try:\r\n",
        "    storeData(mentah[i],kecuali,list(normal['salah']),list(normal['benar']))\r\n",
        "  except:\r\n",
        "    continue"
      ],
      "execution_count": null,
      "outputs": []
    },
    {
      "cell_type": "markdown",
      "metadata": {
        "id": "IPEGLUbyb48t"
      },
      "source": [
        "#Proses Anlysis Sentiment"
      ]
    },
    {
      "cell_type": "code",
      "metadata": {
        "colab": {
          "base_uri": "https://localhost:8080/",
          "height": 289
        },
        "id": "pfVc03zh6NLa",
        "outputId": "ab1f8294-420b-4383-9ea3-f0390c4542b9"
      },
      "source": [
        "connection = sqlite3.connect('dbtugasfix.db')\r\n",
        "cursor = connection.cursor()\r\n",
        "query = 'select * from Tweet;'\r\n",
        "cursor.execute(query)\r\n",
        "df =  pd.DataFrame(cursor.fetchall(), columns=['tweetid','userid','createddate', 'tweet','cleantweet','isretweet','rttext','rtuser'])\r\n",
        "df.head()"
      ],
      "execution_count": 9,
      "outputs": [
        {
          "output_type": "execute_result",
          "data": {
            "text/html": [
              "<div>\n",
              "<style scoped>\n",
              "    .dataframe tbody tr th:only-of-type {\n",
              "        vertical-align: middle;\n",
              "    }\n",
              "\n",
              "    .dataframe tbody tr th {\n",
              "        vertical-align: top;\n",
              "    }\n",
              "\n",
              "    .dataframe thead th {\n",
              "        text-align: right;\n",
              "    }\n",
              "</style>\n",
              "<table border=\"1\" class=\"dataframe\">\n",
              "  <thead>\n",
              "    <tr style=\"text-align: right;\">\n",
              "      <th></th>\n",
              "      <th>tweetid</th>\n",
              "      <th>userid</th>\n",
              "      <th>createddate</th>\n",
              "      <th>tweet</th>\n",
              "      <th>cleantweet</th>\n",
              "      <th>isretweet</th>\n",
              "      <th>rttext</th>\n",
              "      <th>rtuser</th>\n",
              "    </tr>\n",
              "  </thead>\n",
              "  <tbody>\n",
              "    <tr>\n",
              "      <th>0</th>\n",
              "      <td>1356025762357231616</td>\n",
              "      <td>525374472</td>\n",
              "      <td>2021-01-31 23:45:10</td>\n",
              "      <td>Sertifikat tanah bakal elektronik !</td>\n",
              "      <td>sertifikat tanah elektronik</td>\n",
              "      <td>0</td>\n",
              "      <td>None</td>\n",
              "      <td>None</td>\n",
              "    </tr>\n",
              "    <tr>\n",
              "      <th>1</th>\n",
              "      <td>1356067321320640512</td>\n",
              "      <td>3022696022</td>\n",
              "      <td>2021-02-01 02:30:18</td>\n",
              "      <td>Sertifikat Hak Atas Tanah Elektronik tentunya ...</td>\n",
              "      <td>sertifikat hak tanah elektronik lebih aman sed...</td>\n",
              "      <td>0</td>\n",
              "      <td>None</td>\n",
              "      <td>None</td>\n",
              "    </tr>\n",
              "    <tr>\n",
              "      <th>2</th>\n",
              "      <td>1356480046253240320</td>\n",
              "      <td>211800482</td>\n",
              "      <td>2021-02-02 05:50:19</td>\n",
              "      <td>Ngurus e-ktp aja belom kelar, segala pake sert...</td>\n",
              "      <td>urus ektp aja kelar pakai sertifikat tanah bik...</td>\n",
              "      <td>0</td>\n",
              "      <td>None</td>\n",
              "      <td>None</td>\n",
              "    </tr>\n",
              "    <tr>\n",
              "      <th>3</th>\n",
              "      <td>1356524802358472704</td>\n",
              "      <td>205630570</td>\n",
              "      <td>2021-02-02 08:48:10</td>\n",
              "      <td>RT @kompascom: Sofyan Djalil belum lama ini me...</td>\n",
              "      <td>rt kompascom sofyan djalil keluar atur menteri...</td>\n",
              "      <td>1</td>\n",
              "      <td>sofyan djalil keluar atur menteri agraria tata...</td>\n",
              "      <td>Kompas.com</td>\n",
              "    </tr>\n",
              "    <tr>\n",
              "      <th>4</th>\n",
              "      <td>1356552177976713216</td>\n",
              "      <td>30766806</td>\n",
              "      <td>2021-02-02 10:36:57</td>\n",
              "      <td>Ketentuan ini tertuang di pasal 16 Permen ATR ...</td>\n",
              "      <td>tentu tuang pasal permen atr nomor sertipikat ...</td>\n",
              "      <td>0</td>\n",
              "      <td>None</td>\n",
              "      <td>None</td>\n",
              "    </tr>\n",
              "  </tbody>\n",
              "</table>\n",
              "</div>"
            ],
            "text/plain": [
              "               tweetid  ...      rtuser\n",
              "0  1356025762357231616  ...        None\n",
              "1  1356067321320640512  ...        None\n",
              "2  1356480046253240320  ...        None\n",
              "3  1356524802358472704  ...  Kompas.com\n",
              "4  1356552177976713216  ...        None\n",
              "\n",
              "[5 rows x 8 columns]"
            ]
          },
          "metadata": {
            "tags": []
          },
          "execution_count": 9
        }
      ]
    },
    {
      "cell_type": "code",
      "metadata": {
        "colab": {
          "base_uri": "https://localhost:8080/",
          "height": 204
        },
        "id": "Wxe19XL5KDad",
        "outputId": "5454b746-dd87-4e84-8ad3-f952f9631603"
      },
      "source": [
        "connection = sqlite3.connect('dbtugasfix.db')\r\n",
        "cursor = connection.cursor()\r\n",
        "query = 'select * from User;'\r\n",
        "cursor.execute(query)\r\n",
        "df2 =  pd.DataFrame(cursor.fetchall(), columns=['userid','name','screenname','location','accountcreated','follower','friend','verified'])\r\n",
        "df2.head()"
      ],
      "execution_count": 5,
      "outputs": [
        {
          "output_type": "execute_result",
          "data": {
            "text/html": [
              "<div>\n",
              "<style scoped>\n",
              "    .dataframe tbody tr th:only-of-type {\n",
              "        vertical-align: middle;\n",
              "    }\n",
              "\n",
              "    .dataframe tbody tr th {\n",
              "        vertical-align: top;\n",
              "    }\n",
              "\n",
              "    .dataframe thead th {\n",
              "        text-align: right;\n",
              "    }\n",
              "</style>\n",
              "<table border=\"1\" class=\"dataframe\">\n",
              "  <thead>\n",
              "    <tr style=\"text-align: right;\">\n",
              "      <th></th>\n",
              "      <th>userid</th>\n",
              "      <th>name</th>\n",
              "      <th>screenname</th>\n",
              "      <th>location</th>\n",
              "      <th>accountcreated</th>\n",
              "      <th>follower</th>\n",
              "      <th>friend</th>\n",
              "      <th>verified</th>\n",
              "    </tr>\n",
              "  </thead>\n",
              "  <tbody>\n",
              "    <tr>\n",
              "      <th>0</th>\n",
              "      <td>15092519</td>\n",
              "      <td>Robert Adhi Kusumaputra</td>\n",
              "      <td>RobertAdhiKsp</td>\n",
              "      <td>Jakarta</td>\n",
              "      <td>2008-06-12 03:07:39</td>\n",
              "      <td>2361</td>\n",
              "      <td>3108</td>\n",
              "      <td>0</td>\n",
              "    </tr>\n",
              "    <tr>\n",
              "      <th>1</th>\n",
              "      <td>15696831</td>\n",
              "      <td>hello gugel</td>\n",
              "      <td>noorhf</td>\n",
              "      <td>Jakarta, Indonesia</td>\n",
              "      <td>2008-08-02 01:13:35</td>\n",
              "      <td>305</td>\n",
              "      <td>398</td>\n",
              "      <td>0</td>\n",
              "    </tr>\n",
              "    <tr>\n",
              "      <th>2</th>\n",
              "      <td>17128975</td>\n",
              "      <td>CNN Indonesia</td>\n",
              "      <td>CNNIndonesia</td>\n",
              "      <td>None</td>\n",
              "      <td>2008-11-03 11:13:25</td>\n",
              "      <td>1561777</td>\n",
              "      <td>23</td>\n",
              "      <td>1</td>\n",
              "    </tr>\n",
              "    <tr>\n",
              "      <th>3</th>\n",
              "      <td>17185358</td>\n",
              "      <td>mochamad.dahlan</td>\n",
              "      <td>faisaldahlan</td>\n",
              "      <td>bogor, jakarta, cirebon</td>\n",
              "      <td>2008-11-05 09:07:59</td>\n",
              "      <td>98</td>\n",
              "      <td>544</td>\n",
              "      <td>0</td>\n",
              "    </tr>\n",
              "    <tr>\n",
              "      <th>4</th>\n",
              "      <td>18129942</td>\n",
              "      <td>TEMPO.CO</td>\n",
              "      <td>tempodotco</td>\n",
              "      <td>Indonesia</td>\n",
              "      <td>2008-12-15 03:54:15</td>\n",
              "      <td>1727238</td>\n",
              "      <td>25</td>\n",
              "      <td>1</td>\n",
              "    </tr>\n",
              "  </tbody>\n",
              "</table>\n",
              "</div>"
            ],
            "text/plain": [
              "     userid                     name     screenname  ... follower friend  verified\n",
              "0  15092519  Robert Adhi Kusumaputra  RobertAdhiKsp  ...     2361   3108         0\n",
              "1  15696831              hello gugel         noorhf  ...      305    398         0\n",
              "2  17128975            CNN Indonesia   CNNIndonesia  ...  1561777     23         1\n",
              "3  17185358          mochamad.dahlan   faisaldahlan  ...       98    544         0\n",
              "4  18129942                 TEMPO.CO     tempodotco  ...  1727238     25         1\n",
              "\n",
              "[5 rows x 8 columns]"
            ]
          },
          "metadata": {
            "tags": []
          },
          "execution_count": 5
        }
      ]
    },
    {
      "cell_type": "code",
      "metadata": {
        "colab": {
          "base_uri": "https://localhost:8080/",
          "height": 564
        },
        "id": "10z6deuwJbf8",
        "outputId": "22651822-cf09-4768-f8d3-801f65b25cb1"
      },
      "source": [
        "connection = sqlite3.connect('dbtugasfix.db')\r\n",
        "cursor = connection.cursor()\r\n",
        "query = \"\"\"select * from Tweet\r\n",
        "join User\r\n",
        "on Tweet.userid = User.userid;\"\"\"\r\n",
        "cursor.execute(query)\r\n",
        "df3 =  pd.DataFrame(cursor.fetchall(), columns=['tweetid','userid','createddate', 'tweet','cleantweet','isretweet','rttext','rtuser','userid','name','screenname','location','accountcreated','follower','friend','verified'])\r\n",
        "df3.head()"
      ],
      "execution_count": 10,
      "outputs": [
        {
          "output_type": "execute_result",
          "data": {
            "text/html": [
              "<div>\n",
              "<style scoped>\n",
              "    .dataframe tbody tr th:only-of-type {\n",
              "        vertical-align: middle;\n",
              "    }\n",
              "\n",
              "    .dataframe tbody tr th {\n",
              "        vertical-align: top;\n",
              "    }\n",
              "\n",
              "    .dataframe thead th {\n",
              "        text-align: right;\n",
              "    }\n",
              "</style>\n",
              "<table border=\"1\" class=\"dataframe\">\n",
              "  <thead>\n",
              "    <tr style=\"text-align: right;\">\n",
              "      <th></th>\n",
              "      <th>tweetid</th>\n",
              "      <th>userid</th>\n",
              "      <th>createddate</th>\n",
              "      <th>tweet</th>\n",
              "      <th>cleantweet</th>\n",
              "      <th>isretweet</th>\n",
              "      <th>rttext</th>\n",
              "      <th>rtuser</th>\n",
              "      <th>userid</th>\n",
              "      <th>name</th>\n",
              "      <th>screenname</th>\n",
              "      <th>location</th>\n",
              "      <th>accountcreated</th>\n",
              "      <th>follower</th>\n",
              "      <th>friend</th>\n",
              "      <th>verified</th>\n",
              "    </tr>\n",
              "  </thead>\n",
              "  <tbody>\n",
              "    <tr>\n",
              "      <th>0</th>\n",
              "      <td>1356025762357231616</td>\n",
              "      <td>525374472</td>\n",
              "      <td>2021-01-31 23:45:10</td>\n",
              "      <td>Sertifikat tanah bakal elektronik !</td>\n",
              "      <td>sertifikat tanah elektronik</td>\n",
              "      <td>0</td>\n",
              "      <td>None</td>\n",
              "      <td>None</td>\n",
              "      <td>525374472</td>\n",
              "      <td>kookie's eomma</td>\n",
              "      <td>Indah4IAM</td>\n",
              "      <td>Jakarta</td>\n",
              "      <td>2012-03-15 13:33:10</td>\n",
              "      <td>123</td>\n",
              "      <td>249</td>\n",
              "      <td>0</td>\n",
              "    </tr>\n",
              "    <tr>\n",
              "      <th>1</th>\n",
              "      <td>1356067321320640512</td>\n",
              "      <td>3022696022</td>\n",
              "      <td>2021-02-01 02:30:18</td>\n",
              "      <td>Sertifikat Hak Atas Tanah Elektronik tentunya ...</td>\n",
              "      <td>sertifikat hak tanah elektronik lebih aman sed...</td>\n",
              "      <td>0</td>\n",
              "      <td>None</td>\n",
              "      <td>None</td>\n",
              "      <td>3022696022</td>\n",
              "      <td>SAKUIN</td>\n",
              "      <td>sakuinformasi</td>\n",
              "      <td>Jakarta</td>\n",
              "      <td>2015-02-16 15:51:42</td>\n",
              "      <td>887</td>\n",
              "      <td>118</td>\n",
              "      <td>0</td>\n",
              "    </tr>\n",
              "    <tr>\n",
              "      <th>2</th>\n",
              "      <td>1356480046253240320</td>\n",
              "      <td>211800482</td>\n",
              "      <td>2021-02-02 05:50:19</td>\n",
              "      <td>Ngurus e-ktp aja belom kelar, segala pake sert...</td>\n",
              "      <td>urus ektp aja kelar pakai sertifikat tanah bik...</td>\n",
              "      <td>0</td>\n",
              "      <td>None</td>\n",
              "      <td>None</td>\n",
              "      <td>211800482</td>\n",
              "      <td>🐥piyakpiyak🐥</td>\n",
              "      <td>zombieplekeset</td>\n",
              "      <td>None</td>\n",
              "      <td>2010-11-04 09:01:27</td>\n",
              "      <td>169</td>\n",
              "      <td>132</td>\n",
              "      <td>0</td>\n",
              "    </tr>\n",
              "    <tr>\n",
              "      <th>3</th>\n",
              "      <td>1356524802358472704</td>\n",
              "      <td>205630570</td>\n",
              "      <td>2021-02-02 08:48:10</td>\n",
              "      <td>RT @kompascom: Sofyan Djalil belum lama ini me...</td>\n",
              "      <td>rt kompascom sofyan djalil keluar atur menteri...</td>\n",
              "      <td>1</td>\n",
              "      <td>sofyan djalil keluar atur menteri agraria tata...</td>\n",
              "      <td>Kompas.com</td>\n",
              "      <td>205630570</td>\n",
              "      <td>fan</td>\n",
              "      <td>irfanhp</td>\n",
              "      <td>+62</td>\n",
              "      <td>2010-10-21 08:40:39</td>\n",
              "      <td>429</td>\n",
              "      <td>730</td>\n",
              "      <td>0</td>\n",
              "    </tr>\n",
              "    <tr>\n",
              "      <th>4</th>\n",
              "      <td>1356552177976713216</td>\n",
              "      <td>30766806</td>\n",
              "      <td>2021-02-02 10:36:57</td>\n",
              "      <td>Ketentuan ini tertuang di pasal 16 Permen ATR ...</td>\n",
              "      <td>tentu tuang pasal permen atr nomor sertipikat ...</td>\n",
              "      <td>0</td>\n",
              "      <td>None</td>\n",
              "      <td>None</td>\n",
              "      <td>30766806</td>\n",
              "      <td>Katak Pembina 走れ包</td>\n",
              "      <td>Reiza_Patters</td>\n",
              "      <td>Tomage-Fakfak, Indonesia</td>\n",
              "      <td>2009-04-13 01:02:30</td>\n",
              "      <td>47858</td>\n",
              "      <td>3928</td>\n",
              "      <td>0</td>\n",
              "    </tr>\n",
              "  </tbody>\n",
              "</table>\n",
              "</div>"
            ],
            "text/plain": [
              "               tweetid      userid  ... friend verified\n",
              "0  1356025762357231616   525374472  ...    249        0\n",
              "1  1356067321320640512  3022696022  ...    118        0\n",
              "2  1356480046253240320   211800482  ...    132        0\n",
              "3  1356524802358472704   205630570  ...    730        0\n",
              "4  1356552177976713216    30766806  ...   3928        0\n",
              "\n",
              "[5 rows x 16 columns]"
            ]
          },
          "metadata": {
            "tags": []
          },
          "execution_count": 10
        }
      ]
    },
    {
      "cell_type": "markdown",
      "metadata": {
        "id": "103HnCbUHXB0"
      },
      "source": [
        "##SENTIMEN"
      ]
    },
    {
      "cell_type": "code",
      "metadata": {
        "id": "4VbP5RlEH1tU"
      },
      "source": [
        "kata =[]\r\n",
        "for i in range(len(df3['tweetid'])):\r\n",
        "  if  df3['isretweet'].iloc[i] == 1:\r\n",
        "    kata.append(df3['rttext'].iloc[i].split())\r\n",
        "  else:\r\n",
        "    kata.append(df3['cleantweet'].iloc[i].split())"
      ],
      "execution_count": 11,
      "outputs": []
    },
    {
      "cell_type": "code",
      "metadata": {
        "id": "3of5mj6JMKxo"
      },
      "source": [
        "pos_list= open(\"./positif.txt\",\"r\")\r\n",
        "pos_kata = pos_list.readlines()\r\n",
        "neg_list= open(\"./negatif.txt\",\"r\")\r\n",
        "neg_kata = neg_list.readlines()"
      ],
      "execution_count": 12,
      "outputs": []
    },
    {
      "cell_type": "code",
      "metadata": {
        "id": "MKJ-B4VFO571"
      },
      "source": [
        "pos_kata = [x[:-1] for x in pos_kata]\r\n",
        "neg_kata = [x[:-1] for x in neg_kata]"
      ],
      "execution_count": 13,
      "outputs": []
    },
    {
      "cell_type": "code",
      "metadata": {
        "id": "YGaFp49qf7Ls"
      },
      "source": [
        "pos_kata = list(set(pos_kata))\r\n",
        "neg_kata = list(set(neg_kata))"
      ],
      "execution_count": 14,
      "outputs": []
    },
    {
      "cell_type": "code",
      "metadata": {
        "id": "pr99Q98uM_w-"
      },
      "source": [
        "globalsent = []\r\n",
        "label =[]\r\n",
        "for item in kata:\r\n",
        "  count_p = 0\r\n",
        "  count_n = 0\r\n",
        "  for kata_pos in pos_kata:\r\n",
        "    if kata_pos.strip() in item:\r\n",
        "      count_p +=1\r\n",
        "  for kata_neg in neg_kata:\r\n",
        "    if kata_neg.strip() in item:\r\n",
        "      count_n +=1\r\n",
        "  tmp = count_p - count_n\r\n",
        "  if tmp > 0:\r\n",
        "    label.append(1)\r\n",
        "  elif tmp < 0:\r\n",
        "    label.append(-1)\r\n",
        "  else:\r\n",
        "    label.append(0)\r\n",
        "  globalsent.append(tmp)"
      ],
      "execution_count": 15,
      "outputs": []
    },
    {
      "cell_type": "code",
      "metadata": {
        "colab": {
          "base_uri": "https://localhost:8080/",
          "height": 204
        },
        "id": "-di6U8g6OVyB",
        "outputId": "7ea1777b-8131-4ab3-ec11-b8be35d2fb51"
      },
      "source": [
        "sentiment =pd.DataFrame({'tweetid':df3['tweetid'],'sentiment':label})\r\n",
        "sentiment.head()"
      ],
      "execution_count": 36,
      "outputs": [
        {
          "output_type": "execute_result",
          "data": {
            "text/html": [
              "<div>\n",
              "<style scoped>\n",
              "    .dataframe tbody tr th:only-of-type {\n",
              "        vertical-align: middle;\n",
              "    }\n",
              "\n",
              "    .dataframe tbody tr th {\n",
              "        vertical-align: top;\n",
              "    }\n",
              "\n",
              "    .dataframe thead th {\n",
              "        text-align: right;\n",
              "    }\n",
              "</style>\n",
              "<table border=\"1\" class=\"dataframe\">\n",
              "  <thead>\n",
              "    <tr style=\"text-align: right;\">\n",
              "      <th></th>\n",
              "      <th>tweetid</th>\n",
              "      <th>sentiment</th>\n",
              "    </tr>\n",
              "  </thead>\n",
              "  <tbody>\n",
              "    <tr>\n",
              "      <th>0</th>\n",
              "      <td>1356025762357231616</td>\n",
              "      <td>0</td>\n",
              "    </tr>\n",
              "    <tr>\n",
              "      <th>1</th>\n",
              "      <td>1356067321320640512</td>\n",
              "      <td>0</td>\n",
              "    </tr>\n",
              "    <tr>\n",
              "      <th>2</th>\n",
              "      <td>1356480046253240320</td>\n",
              "      <td>0</td>\n",
              "    </tr>\n",
              "    <tr>\n",
              "      <th>3</th>\n",
              "      <td>1356524802358472704</td>\n",
              "      <td>-1</td>\n",
              "    </tr>\n",
              "    <tr>\n",
              "      <th>4</th>\n",
              "      <td>1356552177976713216</td>\n",
              "      <td>-1</td>\n",
              "    </tr>\n",
              "  </tbody>\n",
              "</table>\n",
              "</div>"
            ],
            "text/plain": [
              "               tweetid  sentiment\n",
              "0  1356025762357231616          0\n",
              "1  1356067321320640512          0\n",
              "2  1356480046253240320          0\n",
              "3  1356524802358472704         -1\n",
              "4  1356552177976713216         -1"
            ]
          },
          "metadata": {
            "tags": []
          },
          "execution_count": 36
        }
      ]
    },
    {
      "cell_type": "code",
      "metadata": {
        "colab": {
          "base_uri": "https://localhost:8080/",
          "height": 551
        },
        "id": "PgE6_sK5WZFH",
        "outputId": "0f7a66aa-bd21-4160-b4f0-a8f04b457c93"
      },
      "source": [
        "import matplotlib.pyplot as plt\r\n",
        "labels, counts = np.unique(label, return_counts=True)\r\n",
        "fig, ax = plt.subplots(figsize=(16,8))\r\n",
        "plt.bar(labels, counts, align='center')\r\n",
        "plt.gca().set_xticks(labels)\r\n",
        "plt.ylabel(\"Frekuensi\")\r\n",
        "plt.xlabel(\"Label\")\r\n",
        "plt.title(\"Label Sentiment Tweet\", fontsize=18)\r\n",
        "plt.show()\r\n",
        "print(labels)\r\n",
        "print(counts)"
      ],
      "execution_count": 16,
      "outputs": [
        {
          "output_type": "display_data",
          "data": {
            "image/png": "[encoded data removed]",
            "text/plain": [
              "<Figure size 1152x576 with 1 Axes>"
            ]
          },
          "metadata": {
            "tags": [],
            "needs_background": "light"
          }
        },
        {
          "output_type": "stream",
          "text": [
            "[-1  0  1]\n",
            "[371 797  67]\n"
          ],
          "name": "stdout"
        }
      ]
    },
    {
      "cell_type": "code",
      "metadata": {
        "colab": {
          "base_uri": "https://localhost:8080/"
        },
        "id": "Yymv9Vi2Rs0T",
        "outputId": "a27aa19d-162b-47bb-a3bc-e820ea2d2721"
      },
      "source": [
        "labels"
      ],
      "execution_count": 17,
      "outputs": [
        {
          "output_type": "execute_result",
          "data": {
            "text/plain": [
              "array([-1,  0,  1])"
            ]
          },
          "metadata": {
            "tags": []
          },
          "execution_count": 17
        }
      ]
    },
    {
      "cell_type": "code",
      "metadata": {
        "colab": {
          "base_uri": "https://localhost:8080/",
          "height": 551
        },
        "id": "x3g9oYliRp5m",
        "outputId": "5a52d2cc-5559-4f44-8a7b-72aa9c7f56c8"
      },
      "source": [
        "import matplotlib.pyplot as plt\r\n",
        "labels, counts = np.unique(globalsent, return_counts=True)\r\n",
        "fig, ax = plt.subplots(figsize=(16,8))\r\n",
        "plt.bar(labels, counts, align='center')\r\n",
        "plt.gca().set_xticks(labels)\r\n",
        "plt.ylabel(\"Frekuensi\")\r\n",
        "plt.xlabel(\"Sentiment\")\r\n",
        "plt.title(\"Nilai Sentiment Tweet\", fontsize=18)\r\n",
        "plt.show()\r\n",
        "print(labels)\r\n",
        "print(counts)\r\n"
      ],
      "execution_count": 18,
      "outputs": [
        {
          "output_type": "display_data",
          "data": {
            "image/png": "[encoded data removed]",
            "text/plain": [
              "<Figure size 1152x576 with 1 Axes>"
            ]
          },
          "metadata": {
            "tags": [],
            "needs_background": "light"
          }
        },
        {
          "output_type": "stream",
          "text": [
            "[-7 -6 -5 -4 -3 -2 -1  0  1  2  3]\n",
            "[  1   1 142   4  27  82 114 797  62   4   1]\n"
          ],
          "name": "stdout"
        }
      ]
    },
    {
      "cell_type": "markdown",
      "metadata": {
        "id": "GM3VX6EaHkO8"
      },
      "source": [
        "##RT TERBANYAK"
      ]
    },
    {
      "cell_type": "code",
      "metadata": {
        "id": "IJO_wpj1auxC"
      },
      "source": [
        "connection = sqlite3.connect('dbtugasfix.db')\r\n",
        "cursor = connection.cursor()\r\n",
        "query = \"\"\"select Tweet.userid, User.name,Tweet.rtuser from Tweet\r\n",
        "join User\r\n",
        "on Tweet.userid = User.userid\r\n",
        "where Tweet.isretweet = 1;\"\"\"\r\n",
        "cursor.execute(query)\r\n",
        "df55 =  pd.DataFrame(cursor.fetchall(), columns=['userid','name','rtuser'])"
      ],
      "execution_count": 39,
      "outputs": []
    },
    {
      "cell_type": "code",
      "metadata": {
        "id": "1TQDzIGAcQpv"
      },
      "source": [
        "user = list(df55['name'])\r\n",
        "rt_user = list(df55['rtuser'])"
      ],
      "execution_count": 40,
      "outputs": []
    },
    {
      "cell_type": "code",
      "metadata": {
        "colab": {
          "base_uri": "https://localhost:8080/",
          "height": 359
        },
        "id": "pkTaRswxeTDv",
        "outputId": "f6b369f7-73ca-478e-924c-2a78af507cc2"
      },
      "source": [
        "labels, counts = np.unique(rt_user, return_counts=True)\r\n",
        "# plt.bar(labels, counts, align='center')\r\n",
        "# plt.gca().set_xticks(labels)\r\n",
        "# plt.show()\r\n",
        "terbanyak = pd.DataFrame({'user':labels,'counts':counts})\r\n",
        "terbanyak = terbanyak.sort_values(by=['counts'], ascending=False)\r\n",
        "terbanyak.iloc[:10]"
      ],
      "execution_count": 42,
      "outputs": [
        {
          "output_type": "execute_result",
          "data": {
            "text/html": [
              "<div>\n",
              "<style scoped>\n",
              "    .dataframe tbody tr th:only-of-type {\n",
              "        vertical-align: middle;\n",
              "    }\n",
              "\n",
              "    .dataframe tbody tr th {\n",
              "        vertical-align: top;\n",
              "    }\n",
              "\n",
              "    .dataframe thead th {\n",
              "        text-align: right;\n",
              "    }\n",
              "</style>\n",
              "<table border=\"1\" class=\"dataframe\">\n",
              "  <thead>\n",
              "    <tr style=\"text-align: right;\">\n",
              "      <th></th>\n",
              "      <th>user</th>\n",
              "      <th>counts</th>\n",
              "    </tr>\n",
              "  </thead>\n",
              "  <tbody>\n",
              "    <tr>\n",
              "      <th>35</th>\n",
              "      <td>Ronnie H. Rusli. MS. PhD.</td>\n",
              "      <td>259</td>\n",
              "    </tr>\n",
              "    <tr>\n",
              "      <th>24</th>\n",
              "      <td>Kompas.com</td>\n",
              "      <td>199</td>\n",
              "    </tr>\n",
              "    <tr>\n",
              "      <th>19</th>\n",
              "      <td>IG : Nicho Silalahi. YT : Migran TV</td>\n",
              "      <td>141</td>\n",
              "    </tr>\n",
              "    <tr>\n",
              "      <th>9</th>\n",
              "      <td>CNN Indonesia</td>\n",
              "      <td>78</td>\n",
              "    </tr>\n",
              "    <tr>\n",
              "      <th>11</th>\n",
              "      <td>DetikFinance</td>\n",
              "      <td>47</td>\n",
              "    </tr>\n",
              "    <tr>\n",
              "      <th>41</th>\n",
              "      <td>Tribunnews</td>\n",
              "      <td>41</td>\n",
              "    </tr>\n",
              "    <tr>\n",
              "      <th>44</th>\n",
              "      <td>detikcom</td>\n",
              "      <td>25</td>\n",
              "    </tr>\n",
              "    <tr>\n",
              "      <th>25</th>\n",
              "      <td>Liputan6.com</td>\n",
              "      <td>18</td>\n",
              "    </tr>\n",
              "    <tr>\n",
              "      <th>49</th>\n",
              "      <td>𝐑𝐨𝐦𝐳</td>\n",
              "      <td>16</td>\n",
              "    </tr>\n",
              "    <tr>\n",
              "      <th>2</th>\n",
              "      <td>Arries</td>\n",
              "      <td>16</td>\n",
              "    </tr>\n",
              "  </tbody>\n",
              "</table>\n",
              "</div>"
            ],
            "text/plain": [
              "                                   user  counts\n",
              "35            Ronnie H. Rusli. MS. PhD.     259\n",
              "24                           Kompas.com     199\n",
              "19  IG : Nicho Silalahi. YT : Migran TV     141\n",
              "9                         CNN Indonesia      78\n",
              "11                         DetikFinance      47\n",
              "41                           Tribunnews      41\n",
              "44                             detikcom      25\n",
              "25                         Liputan6.com      18\n",
              "49                                 𝐑𝐨𝐦𝐳      16\n",
              "2                                Arries      16"
            ]
          },
          "metadata": {
            "tags": []
          },
          "execution_count": 42
        }
      ]
    },
    {
      "cell_type": "code",
      "metadata": {
        "colab": {
          "base_uri": "https://localhost:8080/"
        },
        "id": "fRMqyetlipqZ",
        "outputId": "a9cb5476-7d0c-4e37-86f6-353409251696"
      },
      "source": [
        "tuit =[]\r\n",
        "connection = sqlite3.connect('dbtugasfix.db')\r\n",
        "cursor = connection.cursor()\r\n",
        "query = \"\"\"select User.name,Tweet.tweet from tweet\r\n",
        "join User\r\n",
        "ON Tweet.userid = User.userid\r\n",
        "where User.name = \"Ronnie H. Rusli. MS. PhD.\";\"\"\"\r\n",
        "cursor.execute(query)\r\n",
        "tuit.append(cursor.fetchall())\r\n",
        "query = \"\"\"select User.name,Tweet.tweet from tweet\r\n",
        "join User\r\n",
        "ON Tweet.userid = User.userid\r\n",
        "where User.name = \"Kompas.com\";\"\"\"\r\n",
        "cursor.execute(query)\r\n",
        "tuit.append(cursor.fetchall())\r\n",
        "\r\n",
        "query = \"\"\"select User.name,Tweet.tweet from tweet\r\n",
        "join User\r\n",
        "ON Tweet.userid = User.userid\r\n",
        "where User.name = \"IG : Nicho Silalahi. YT : Migran TV\";\"\"\"\r\n",
        "cursor.execute(query)\r\n",
        "tuit.append(cursor.fetchall())\r\n",
        "\r\n",
        "\r\n",
        "query = \"\"\"select User.name,Tweet.tweet from tweet\r\n",
        "join User\r\n",
        "ON Tweet.userid = User.userid\r\n",
        "where User.name = \"CNN Indonesia\";\"\"\"\r\n",
        "cursor.execute(query)\r\n",
        "tuit.append(cursor.fetchall())\r\n",
        "\r\n",
        "\r\n",
        "query = \"\"\"select User.name,Tweet.tweet from tweet\r\n",
        "join User\r\n",
        "ON Tweet.userid = User.userid\r\n",
        "where User.name = \"DetikFinance\";\"\"\"\r\n",
        "cursor.execute(query)\r\n",
        "tuit.append(cursor.fetchall())\r\n",
        "for i in range(5):\r\n",
        "  print(\"Tweet : \",tuit[i][0][1],\"\\n oleh : \",tuit[i][0][0])"
      ],
      "execution_count": 43,
      "outputs": [
        {
          "output_type": "stream",
          "text": [
            "Tweet :  Akibat SHM elektronik yg baru dari BPN dengan yg tercetak di kertas surat SHM lama, nomor, luas tanah, tahun dan lokasi dari sertifikat tanah sama, tetapi nama pemilik berbeda dan sudah pindah tangan. Jadi masalah hukum apalagi sdh diperjual belikan. Mantab lah negara ini \n",
            " oleh :  Ronnie H. Rusli. MS. PhD.\n",
            "Tweet :  \"BPN tidak akan pernah menarik sertifikat. Kalau ada orang mengaku dari BPN ingin menarik sertifikat, jangan dilayani,\" tegas Menteri Sofyan. https://t.co/Q52HiRhYHB \n",
            " oleh :  Kompas.com\n",
            "Tweet :  K0NT0LAH.!\n",
            "\n",
            "Ketika model elektronik maka akan rentan di hack atau dihapus dari database itu sertifikat, sehingga mafia tanah Semangkin mudah merampas hak rakyat, Patut diduga Demi proyek habisi anggaran sekaligus memudahkan penghapusan bukti² sah kepemilikan tanah secara verbal. https://t.co/cVUobdoIXK \n",
            " oleh :  IG : Nicho Silalahi. YT : Migran TV\n",
            "Tweet :  'Mengasah' Konflik Agraria dengan Sertifikat Tanah Elektronik https://t.co/alTFcnL1aV \n",
            " oleh :  CNN Indonesia\n",
            "Tweet :  Menteri Agraria dan Tata Ruang sekaligus Kepala Badan Pertanahan Nasional (BPN) Sofyan Djalil telah meneken Peraturan Menteri baru soal Sertifikat Elektronik. https://t.co/i1MZOOCNpJ \n",
            " oleh :  DetikFinance\n"
          ],
          "name": "stdout"
        }
      ]
    },
    {
      "cell_type": "code",
      "metadata": {
        "id": "Q0WkQ9pDhS21"
      },
      "source": [
        "hari = list(df3['createddate'])"
      ],
      "execution_count": 19,
      "outputs": []
    },
    {
      "cell_type": "code",
      "metadata": {
        "colab": {
          "base_uri": "https://localhost:8080/",
          "height": 35
        },
        "id": "BL6DLK_bhnfU",
        "outputId": "5bbdf353-b36d-4cc2-cb64-e89bd3e9d5b9"
      },
      "source": [
        "hari[0][:10]"
      ],
      "execution_count": 20,
      "outputs": [
        {
          "output_type": "execute_result",
          "data": {
            "application/vnd.google.colaboratory.intrinsic+json": {
              "type": "string"
            },
            "text/plain": [
              "'2021-01-31'"
            ]
          },
          "metadata": {
            "tags": []
          },
          "execution_count": 20
        }
      ]
    },
    {
      "cell_type": "code",
      "metadata": {
        "id": "boyMVARKhhrN"
      },
      "source": [
        "seminggu = [x[:10] for x in hari]"
      ],
      "execution_count": 21,
      "outputs": []
    },
    {
      "cell_type": "code",
      "metadata": {
        "colab": {
          "base_uri": "https://localhost:8080/",
          "height": 568
        },
        "id": "K5XHiU9hhxUv",
        "outputId": "ee560cf2-ac6b-43c2-bf4d-df51da57ff4a"
      },
      "source": [
        "labels, counts = np.unique(seminggu, return_counts=True)\r\n",
        "\r\n",
        "fig, ax = plt.subplots(figsize=(16,8))\r\n",
        "plt.plot(labels, counts, marker=\"x\", label = \"Tweet\")\r\n",
        "plt.gca().set_xticks(labels)\r\n",
        "plt.ylabel(\"Tweeet\")\r\n",
        "plt.xlabel(\"Hari\")\r\n",
        "plt.title(\"Trend Topik Sertifikat Tanah Elektronik\", fontsize=18)\r\n",
        "plt.legend()\r\n",
        "plt.show()\r\n",
        "print(labels)\r\n",
        "print(counts)"
      ],
      "execution_count": 23,
      "outputs": [
        {
          "output_type": "display_data",
          "data": {
            "image/png": "[encoded data removed]",
            "text/plain": [
              "<Figure size 1152x576 with 1 Axes>"
            ]
          },
          "metadata": {
            "tags": [],
            "needs_background": "light"
          }
        },
        {
          "output_type": "stream",
          "text": [
            "['2021-01-31' '2021-02-01' '2021-02-02' '2021-02-03' '2021-02-04'\n",
            " '2021-02-05' '2021-02-06']\n",
            "[  1   1 120 972 128   1  12]\n"
          ],
          "name": "stdout"
        }
      ]
    },
    {
      "cell_type": "code",
      "metadata": {
        "colab": {
          "base_uri": "https://localhost:8080/",
          "height": 266
        },
        "id": "WAXEocIRjcgs",
        "outputId": "d6ef731c-843e-4bb0-87be-e632ff6a0b4d"
      },
      "source": [
        "hariterbanyak = pd.DataFrame({'hari':labels,'jumlah tweet':counts})\r\n",
        "hariterbanyak"
      ],
      "execution_count": 61,
      "outputs": [
        {
          "output_type": "execute_result",
          "data": {
            "text/html": [
              "<div>\n",
              "<style scoped>\n",
              "    .dataframe tbody tr th:only-of-type {\n",
              "        vertical-align: middle;\n",
              "    }\n",
              "\n",
              "    .dataframe tbody tr th {\n",
              "        vertical-align: top;\n",
              "    }\n",
              "\n",
              "    .dataframe thead th {\n",
              "        text-align: right;\n",
              "    }\n",
              "</style>\n",
              "<table border=\"1\" class=\"dataframe\">\n",
              "  <thead>\n",
              "    <tr style=\"text-align: right;\">\n",
              "      <th></th>\n",
              "      <th>hari</th>\n",
              "      <th>jumlah tweet</th>\n",
              "    </tr>\n",
              "  </thead>\n",
              "  <tbody>\n",
              "    <tr>\n",
              "      <th>0</th>\n",
              "      <td>2021-01-31</td>\n",
              "      <td>1</td>\n",
              "    </tr>\n",
              "    <tr>\n",
              "      <th>1</th>\n",
              "      <td>2021-02-01</td>\n",
              "      <td>1</td>\n",
              "    </tr>\n",
              "    <tr>\n",
              "      <th>2</th>\n",
              "      <td>2021-02-02</td>\n",
              "      <td>120</td>\n",
              "    </tr>\n",
              "    <tr>\n",
              "      <th>3</th>\n",
              "      <td>2021-02-03</td>\n",
              "      <td>972</td>\n",
              "    </tr>\n",
              "    <tr>\n",
              "      <th>4</th>\n",
              "      <td>2021-02-04</td>\n",
              "      <td>128</td>\n",
              "    </tr>\n",
              "    <tr>\n",
              "      <th>5</th>\n",
              "      <td>2021-02-05</td>\n",
              "      <td>1</td>\n",
              "    </tr>\n",
              "    <tr>\n",
              "      <th>6</th>\n",
              "      <td>2021-02-06</td>\n",
              "      <td>12</td>\n",
              "    </tr>\n",
              "  </tbody>\n",
              "</table>\n",
              "</div>"
            ],
            "text/plain": [
              "         hari  jumlah tweet\n",
              "0  2021-01-31             1\n",
              "1  2021-02-01             1\n",
              "2  2021-02-02           120\n",
              "3  2021-02-03           972\n",
              "4  2021-02-04           128\n",
              "5  2021-02-05             1\n",
              "6  2021-02-06            12"
            ]
          },
          "metadata": {
            "tags": []
          },
          "execution_count": 61
        }
      ]
    },
    {
      "cell_type": "code",
      "metadata": {
        "id": "k2IVVb0Vjf_D"
      },
      "source": [
        "sehari = [x for x in hari if x[:10]==\"2021-02-03\"]"
      ],
      "execution_count": 24,
      "outputs": []
    },
    {
      "cell_type": "code",
      "metadata": {
        "id": "ZL8CFG1mjzS7"
      },
      "source": [
        "sehari = [x[11:13] for x in sehari]"
      ],
      "execution_count": 25,
      "outputs": []
    },
    {
      "cell_type": "code",
      "metadata": {
        "colab": {
          "base_uri": "https://localhost:8080/",
          "height": 517
        },
        "id": "LtnoypNekOvj",
        "outputId": "673b224c-59ec-437f-a217-c62bf0de3a45"
      },
      "source": [
        "labels, counts = np.unique(sehari, return_counts=True)\r\n",
        "fig, ax = plt.subplots(figsize=(16,8))\r\n",
        "plt.plot(labels, counts, marker=\"x\")\r\n",
        "plt.gca().set_xticks(labels)\r\n",
        "plt.ylabel(\"Tweeet\")\r\n",
        "plt.xlabel(\"Jam\")\r\n",
        "plt.title(\"Trend Topik Sertifikat Tanah Elektronik\", fontsize=18)\r\n",
        "plt.show()"
      ],
      "execution_count": 26,
      "outputs": [
        {
          "output_type": "display_data",
          "data": {
            "image/png": "[encoded data removed]",
            "text/plain": [
              "<Figure size 1152x576 with 1 Axes>"
            ]
          },
          "metadata": {
            "tags": [],
            "needs_background": "light"
          }
        }
      ]
    },
    {
      "cell_type": "code",
      "metadata": {
        "colab": {
          "base_uri": "https://localhost:8080/",
          "height": 793
        },
        "id": "Kg0bzwk5kbvf",
        "outputId": "6efe7b0c-4ee6-4119-e7b9-34341dfb3550"
      },
      "source": [
        "jamterbanyak = pd.DataFrame({'jam':labels,'jumlah tweet':counts})\r\n",
        "# jamterbanyak = jamterbanyak.sort_values(by=['jumlah tweet'], ascending=False)\r\n",
        "jamterbanyak"
      ],
      "execution_count": 28,
      "outputs": [
        {
          "output_type": "execute_result",
          "data": {
            "text/html": [
              "<div>\n",
              "<style scoped>\n",
              "    .dataframe tbody tr th:only-of-type {\n",
              "        vertical-align: middle;\n",
              "    }\n",
              "\n",
              "    .dataframe tbody tr th {\n",
              "        vertical-align: top;\n",
              "    }\n",
              "\n",
              "    .dataframe thead th {\n",
              "        text-align: right;\n",
              "    }\n",
              "</style>\n",
              "<table border=\"1\" class=\"dataframe\">\n",
              "  <thead>\n",
              "    <tr style=\"text-align: right;\">\n",
              "      <th></th>\n",
              "      <th>jam</th>\n",
              "      <th>jumlah tweet</th>\n",
              "    </tr>\n",
              "  </thead>\n",
              "  <tbody>\n",
              "    <tr>\n",
              "      <th>0</th>\n",
              "      <td>00</td>\n",
              "      <td>21</td>\n",
              "    </tr>\n",
              "    <tr>\n",
              "      <th>1</th>\n",
              "      <td>01</td>\n",
              "      <td>66</td>\n",
              "    </tr>\n",
              "    <tr>\n",
              "      <th>2</th>\n",
              "      <td>02</td>\n",
              "      <td>65</td>\n",
              "    </tr>\n",
              "    <tr>\n",
              "      <th>3</th>\n",
              "      <td>03</td>\n",
              "      <td>41</td>\n",
              "    </tr>\n",
              "    <tr>\n",
              "      <th>4</th>\n",
              "      <td>04</td>\n",
              "      <td>50</td>\n",
              "    </tr>\n",
              "    <tr>\n",
              "      <th>5</th>\n",
              "      <td>05</td>\n",
              "      <td>50</td>\n",
              "    </tr>\n",
              "    <tr>\n",
              "      <th>6</th>\n",
              "      <td>06</td>\n",
              "      <td>74</td>\n",
              "    </tr>\n",
              "    <tr>\n",
              "      <th>7</th>\n",
              "      <td>07</td>\n",
              "      <td>87</td>\n",
              "    </tr>\n",
              "    <tr>\n",
              "      <th>8</th>\n",
              "      <td>08</td>\n",
              "      <td>73</td>\n",
              "    </tr>\n",
              "    <tr>\n",
              "      <th>9</th>\n",
              "      <td>09</td>\n",
              "      <td>59</td>\n",
              "    </tr>\n",
              "    <tr>\n",
              "      <th>10</th>\n",
              "      <td>10</td>\n",
              "      <td>48</td>\n",
              "    </tr>\n",
              "    <tr>\n",
              "      <th>11</th>\n",
              "      <td>11</td>\n",
              "      <td>38</td>\n",
              "    </tr>\n",
              "    <tr>\n",
              "      <th>12</th>\n",
              "      <td>12</td>\n",
              "      <td>53</td>\n",
              "    </tr>\n",
              "    <tr>\n",
              "      <th>13</th>\n",
              "      <td>13</td>\n",
              "      <td>55</td>\n",
              "    </tr>\n",
              "    <tr>\n",
              "      <th>14</th>\n",
              "      <td>14</td>\n",
              "      <td>36</td>\n",
              "    </tr>\n",
              "    <tr>\n",
              "      <th>15</th>\n",
              "      <td>15</td>\n",
              "      <td>46</td>\n",
              "    </tr>\n",
              "    <tr>\n",
              "      <th>16</th>\n",
              "      <td>16</td>\n",
              "      <td>30</td>\n",
              "    </tr>\n",
              "    <tr>\n",
              "      <th>17</th>\n",
              "      <td>17</td>\n",
              "      <td>15</td>\n",
              "    </tr>\n",
              "    <tr>\n",
              "      <th>18</th>\n",
              "      <td>18</td>\n",
              "      <td>9</td>\n",
              "    </tr>\n",
              "    <tr>\n",
              "      <th>19</th>\n",
              "      <td>19</td>\n",
              "      <td>7</td>\n",
              "    </tr>\n",
              "    <tr>\n",
              "      <th>20</th>\n",
              "      <td>20</td>\n",
              "      <td>3</td>\n",
              "    </tr>\n",
              "    <tr>\n",
              "      <th>21</th>\n",
              "      <td>21</td>\n",
              "      <td>9</td>\n",
              "    </tr>\n",
              "    <tr>\n",
              "      <th>22</th>\n",
              "      <td>22</td>\n",
              "      <td>13</td>\n",
              "    </tr>\n",
              "    <tr>\n",
              "      <th>23</th>\n",
              "      <td>23</td>\n",
              "      <td>24</td>\n",
              "    </tr>\n",
              "  </tbody>\n",
              "</table>\n",
              "</div>"
            ],
            "text/plain": [
              "   jam  jumlah tweet\n",
              "0   00            21\n",
              "1   01            66\n",
              "2   02            65\n",
              "3   03            41\n",
              "4   04            50\n",
              "5   05            50\n",
              "6   06            74\n",
              "7   07            87\n",
              "8   08            73\n",
              "9   09            59\n",
              "10  10            48\n",
              "11  11            38\n",
              "12  12            53\n",
              "13  13            55\n",
              "14  14            36\n",
              "15  15            46\n",
              "16  16            30\n",
              "17  17            15\n",
              "18  18             9\n",
              "19  19             7\n",
              "20  20             3\n",
              "21  21             9\n",
              "22  22            13\n",
              "23  23            24"
            ]
          },
          "metadata": {
            "tags": []
          },
          "execution_count": 28
        }
      ]
    }
  ]
}