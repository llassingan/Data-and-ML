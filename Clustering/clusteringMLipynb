{
  "nbformat": 4,
  "nbformat_minor": 0,
  "metadata": {
    "colab": {
      "name": "clusteringML.ipynb",
      "provenance": [],
      "collapsed_sections": [
        "9cqsGWTFkUoK"
      ]
    },
    "kernelspec": {
      "name": "python3",
      "display_name": "Python 3"
    }
  },
  "cells": [
    {
      "cell_type": "markdown",
      "metadata": {
        "id": "zA4F0MNOok1Z"
      },
      "source": [
        "##Connecting to GDrive"
      ]
    },
    {
      "cell_type": "code",
      "metadata": {
        "colab": {
          "base_uri": "https://localhost:8080/"
        },
        "id": "neRMZaZOrX5y",
        "outputId": "a3a22d73-9c45-4bd3-eaf6-8ee60bf5d967"
      },
      "source": [
        "from google.colab import drive\n",
        "drive.mount('/gdrive')\n",
        "%cd /gdrive/My Drive/tubes/ML_CLS"
      ],
      "execution_count": 1,
      "outputs": [
        {
          "output_type": "stream",
          "text": [
            "Mounted at /gdrive\n",
            "/gdrive/My Drive/tubes/ML_CLS\n"
          ],
          "name": "stdout"
        }
      ]
    },
    {
      "cell_type": "markdown",
      "metadata": {
        "id": "MHqULXKzSlTH"
      },
      "source": [
        "Dataset dapat diunduh pada link berikut : [WINE FOR CLUSTERING](https://www.kaggle.com/harrywang/wine-dataset-for-clustering/)"
      ]
    },
    {
      "cell_type": "markdown",
      "metadata": {
        "id": "BTX9vGExop1H"
      },
      "source": [
        "##Import Library"
      ]
    },
    {
      "cell_type": "code",
      "metadata": {
        "id": "cPa4syLhnQO4"
      },
      "source": [
        "import pandas as pd\r\n",
        "import numpy as np\r\n",
        "import matplotlib.pyplot as plt"
      ],
      "execution_count": 2,
      "outputs": []
    },
    {
      "cell_type": "markdown",
      "metadata": {
        "id": "zB6dSn5fSBIM"
      },
      "source": [
        "#PREPROCESSING"
      ]
    },
    {
      "cell_type": "markdown",
      "metadata": {
        "id": "IT7kuHmCotY4"
      },
      "source": [
        "##Load Dataframe"
      ]
    },
    {
      "cell_type": "code",
      "metadata": {
        "id": "EoMa3I1yoSnR"
      },
      "source": [
        "df = pd.read_csv('wine-clustering.csv')"
      ],
      "execution_count": 3,
      "outputs": []
    },
    {
      "cell_type": "code",
      "metadata": {
        "colab": {
          "base_uri": "https://localhost:8080/",
          "height": 204
        },
        "id": "szsjYUK3GZ5M",
        "outputId": "b664ecc0-57ee-48ff-db41-83ccf80872de"
      },
      "source": [
        "df.head()"
      ],
      "execution_count": 4,
      "outputs": [
        {
          "output_type": "execute_result",
          "data": {
            "text/html": [
              "<div>\n",
              "<style scoped>\n",
              "    .dataframe tbody tr th:only-of-type {\n",
              "        vertical-align: middle;\n",
              "    }\n",
              "\n",
              "    .dataframe tbody tr th {\n",
              "        vertical-align: top;\n",
              "    }\n",
              "\n",
              "    .dataframe thead th {\n",
              "        text-align: right;\n",
              "    }\n",
              "</style>\n",
              "<table border=\"1\" class=\"dataframe\">\n",
              "  <thead>\n",
              "    <tr style=\"text-align: right;\">\n",
              "      <th></th>\n",
              "      <th>Alcohol</th>\n",
              "      <th>Malic_Acid</th>\n",
              "      <th>Ash</th>\n",
              "      <th>Ash_Alcanity</th>\n",
              "      <th>Magnesium</th>\n",
              "      <th>Total_Phenols</th>\n",
              "      <th>Flavanoids</th>\n",
              "      <th>Nonflavanoid_Phenols</th>\n",
              "      <th>Proanthocyanins</th>\n",
              "      <th>Color_Intensity</th>\n",
              "      <th>Hue</th>\n",
              "      <th>OD280</th>\n",
              "      <th>Proline</th>\n",
              "    </tr>\n",
              "  </thead>\n",
              "  <tbody>\n",
              "    <tr>\n",
              "      <th>0</th>\n",
              "      <td>14.23</td>\n",
              "      <td>1.71</td>\n",
              "      <td>2.43</td>\n",
              "      <td>15.6</td>\n",
              "      <td>127</td>\n",
              "      <td>2.80</td>\n",
              "      <td>3.06</td>\n",
              "      <td>0.28</td>\n",
              "      <td>2.29</td>\n",
              "      <td>5.64</td>\n",
              "      <td>1.04</td>\n",
              "      <td>3.92</td>\n",
              "      <td>1065</td>\n",
              "    </tr>\n",
              "    <tr>\n",
              "      <th>1</th>\n",
              "      <td>13.20</td>\n",
              "      <td>1.78</td>\n",
              "      <td>2.14</td>\n",
              "      <td>11.2</td>\n",
              "      <td>100</td>\n",
              "      <td>2.65</td>\n",
              "      <td>2.76</td>\n",
              "      <td>0.26</td>\n",
              "      <td>1.28</td>\n",
              "      <td>4.38</td>\n",
              "      <td>1.05</td>\n",
              "      <td>3.40</td>\n",
              "      <td>1050</td>\n",
              "    </tr>\n",
              "    <tr>\n",
              "      <th>2</th>\n",
              "      <td>13.16</td>\n",
              "      <td>2.36</td>\n",
              "      <td>2.67</td>\n",
              "      <td>18.6</td>\n",
              "      <td>101</td>\n",
              "      <td>2.80</td>\n",
              "      <td>3.24</td>\n",
              "      <td>0.30</td>\n",
              "      <td>2.81</td>\n",
              "      <td>5.68</td>\n",
              "      <td>1.03</td>\n",
              "      <td>3.17</td>\n",
              "      <td>1185</td>\n",
              "    </tr>\n",
              "    <tr>\n",
              "      <th>3</th>\n",
              "      <td>14.37</td>\n",
              "      <td>1.95</td>\n",
              "      <td>2.50</td>\n",
              "      <td>16.8</td>\n",
              "      <td>113</td>\n",
              "      <td>3.85</td>\n",
              "      <td>3.49</td>\n",
              "      <td>0.24</td>\n",
              "      <td>2.18</td>\n",
              "      <td>7.80</td>\n",
              "      <td>0.86</td>\n",
              "      <td>3.45</td>\n",
              "      <td>1480</td>\n",
              "    </tr>\n",
              "    <tr>\n",
              "      <th>4</th>\n",
              "      <td>13.24</td>\n",
              "      <td>2.59</td>\n",
              "      <td>2.87</td>\n",
              "      <td>21.0</td>\n",
              "      <td>118</td>\n",
              "      <td>2.80</td>\n",
              "      <td>2.69</td>\n",
              "      <td>0.39</td>\n",
              "      <td>1.82</td>\n",
              "      <td>4.32</td>\n",
              "      <td>1.04</td>\n",
              "      <td>2.93</td>\n",
              "      <td>735</td>\n",
              "    </tr>\n",
              "  </tbody>\n",
              "</table>\n",
              "</div>"
            ],
            "text/plain": [
              "   Alcohol  Malic_Acid   Ash  ...   Hue  OD280  Proline\n",
              "0    14.23        1.71  2.43  ...  1.04   3.92     1065\n",
              "1    13.20        1.78  2.14  ...  1.05   3.40     1050\n",
              "2    13.16        2.36  2.67  ...  1.03   3.17     1185\n",
              "3    14.37        1.95  2.50  ...  0.86   3.45     1480\n",
              "4    13.24        2.59  2.87  ...  1.04   2.93      735\n",
              "\n",
              "[5 rows x 13 columns]"
            ]
          },
          "metadata": {
            "tags": []
          },
          "execution_count": 4
        }
      ]
    },
    {
      "cell_type": "code",
      "metadata": {
        "colab": {
          "base_uri": "https://localhost:8080/",
          "height": 452
        },
        "id": "sri4QKtD_GMs",
        "outputId": "43385533-7cd5-4d00-88ae-974981f7c9f5"
      },
      "source": [
        "df.describe().T"
      ],
      "execution_count": 6,
      "outputs": [
        {
          "output_type": "execute_result",
          "data": {
            "text/html": [
              "<div>\n",
              "<style scoped>\n",
              "    .dataframe tbody tr th:only-of-type {\n",
              "        vertical-align: middle;\n",
              "    }\n",
              "\n",
              "    .dataframe tbody tr th {\n",
              "        vertical-align: top;\n",
              "    }\n",
              "\n",
              "    .dataframe thead th {\n",
              "        text-align: right;\n",
              "    }\n",
              "</style>\n",
              "<table border=\"1\" class=\"dataframe\">\n",
              "  <thead>\n",
              "    <tr style=\"text-align: right;\">\n",
              "      <th></th>\n",
              "      <th>count</th>\n",
              "      <th>mean</th>\n",
              "      <th>std</th>\n",
              "      <th>min</th>\n",
              "      <th>25%</th>\n",
              "      <th>50%</th>\n",
              "      <th>75%</th>\n",
              "      <th>max</th>\n",
              "    </tr>\n",
              "  </thead>\n",
              "  <tbody>\n",
              "    <tr>\n",
              "      <th>Alcohol</th>\n",
              "      <td>178.0</td>\n",
              "      <td>13.000618</td>\n",
              "      <td>0.811827</td>\n",
              "      <td>11.03</td>\n",
              "      <td>12.3625</td>\n",
              "      <td>13.050</td>\n",
              "      <td>13.6775</td>\n",
              "      <td>14.83</td>\n",
              "    </tr>\n",
              "    <tr>\n",
              "      <th>Malic_Acid</th>\n",
              "      <td>178.0</td>\n",
              "      <td>2.336348</td>\n",
              "      <td>1.117146</td>\n",
              "      <td>0.74</td>\n",
              "      <td>1.6025</td>\n",
              "      <td>1.865</td>\n",
              "      <td>3.0825</td>\n",
              "      <td>5.80</td>\n",
              "    </tr>\n",
              "    <tr>\n",
              "      <th>Ash</th>\n",
              "      <td>178.0</td>\n",
              "      <td>2.366517</td>\n",
              "      <td>0.274344</td>\n",
              "      <td>1.36</td>\n",
              "      <td>2.2100</td>\n",
              "      <td>2.360</td>\n",
              "      <td>2.5575</td>\n",
              "      <td>3.23</td>\n",
              "    </tr>\n",
              "    <tr>\n",
              "      <th>Ash_Alcanity</th>\n",
              "      <td>178.0</td>\n",
              "      <td>19.494944</td>\n",
              "      <td>3.339564</td>\n",
              "      <td>10.60</td>\n",
              "      <td>17.2000</td>\n",
              "      <td>19.500</td>\n",
              "      <td>21.5000</td>\n",
              "      <td>30.00</td>\n",
              "    </tr>\n",
              "    <tr>\n",
              "      <th>Magnesium</th>\n",
              "      <td>178.0</td>\n",
              "      <td>99.741573</td>\n",
              "      <td>14.282484</td>\n",
              "      <td>70.00</td>\n",
              "      <td>88.0000</td>\n",
              "      <td>98.000</td>\n",
              "      <td>107.0000</td>\n",
              "      <td>162.00</td>\n",
              "    </tr>\n",
              "    <tr>\n",
              "      <th>Total_Phenols</th>\n",
              "      <td>178.0</td>\n",
              "      <td>2.295112</td>\n",
              "      <td>0.625851</td>\n",
              "      <td>0.98</td>\n",
              "      <td>1.7425</td>\n",
              "      <td>2.355</td>\n",
              "      <td>2.8000</td>\n",
              "      <td>3.88</td>\n",
              "    </tr>\n",
              "    <tr>\n",
              "      <th>Flavanoids</th>\n",
              "      <td>178.0</td>\n",
              "      <td>2.029270</td>\n",
              "      <td>0.998859</td>\n",
              "      <td>0.34</td>\n",
              "      <td>1.2050</td>\n",
              "      <td>2.135</td>\n",
              "      <td>2.8750</td>\n",
              "      <td>5.08</td>\n",
              "    </tr>\n",
              "    <tr>\n",
              "      <th>Nonflavanoid_Phenols</th>\n",
              "      <td>178.0</td>\n",
              "      <td>0.361854</td>\n",
              "      <td>0.124453</td>\n",
              "      <td>0.13</td>\n",
              "      <td>0.2700</td>\n",
              "      <td>0.340</td>\n",
              "      <td>0.4375</td>\n",
              "      <td>0.66</td>\n",
              "    </tr>\n",
              "    <tr>\n",
              "      <th>Proanthocyanins</th>\n",
              "      <td>178.0</td>\n",
              "      <td>1.590899</td>\n",
              "      <td>0.572359</td>\n",
              "      <td>0.41</td>\n",
              "      <td>1.2500</td>\n",
              "      <td>1.555</td>\n",
              "      <td>1.9500</td>\n",
              "      <td>3.58</td>\n",
              "    </tr>\n",
              "    <tr>\n",
              "      <th>Color_Intensity</th>\n",
              "      <td>178.0</td>\n",
              "      <td>5.058090</td>\n",
              "      <td>2.318286</td>\n",
              "      <td>1.28</td>\n",
              "      <td>3.2200</td>\n",
              "      <td>4.690</td>\n",
              "      <td>6.2000</td>\n",
              "      <td>13.00</td>\n",
              "    </tr>\n",
              "    <tr>\n",
              "      <th>Hue</th>\n",
              "      <td>178.0</td>\n",
              "      <td>0.957449</td>\n",
              "      <td>0.228572</td>\n",
              "      <td>0.48</td>\n",
              "      <td>0.7825</td>\n",
              "      <td>0.965</td>\n",
              "      <td>1.1200</td>\n",
              "      <td>1.71</td>\n",
              "    </tr>\n",
              "    <tr>\n",
              "      <th>OD280</th>\n",
              "      <td>178.0</td>\n",
              "      <td>2.611685</td>\n",
              "      <td>0.709990</td>\n",
              "      <td>1.27</td>\n",
              "      <td>1.9375</td>\n",
              "      <td>2.780</td>\n",
              "      <td>3.1700</td>\n",
              "      <td>4.00</td>\n",
              "    </tr>\n",
              "    <tr>\n",
              "      <th>Proline</th>\n",
              "      <td>178.0</td>\n",
              "      <td>746.893258</td>\n",
              "      <td>314.907474</td>\n",
              "      <td>278.00</td>\n",
              "      <td>500.5000</td>\n",
              "      <td>673.500</td>\n",
              "      <td>985.0000</td>\n",
              "      <td>1680.00</td>\n",
              "    </tr>\n",
              "  </tbody>\n",
              "</table>\n",
              "</div>"
            ],
            "text/plain": [
              "                      count        mean         std  ...      50%       75%      max\n",
              "Alcohol               178.0   13.000618    0.811827  ...   13.050   13.6775    14.83\n",
              "Malic_Acid            178.0    2.336348    1.117146  ...    1.865    3.0825     5.80\n",
              "Ash                   178.0    2.366517    0.274344  ...    2.360    2.5575     3.23\n",
              "Ash_Alcanity          178.0   19.494944    3.339564  ...   19.500   21.5000    30.00\n",
              "Magnesium             178.0   99.741573   14.282484  ...   98.000  107.0000   162.00\n",
              "Total_Phenols         178.0    2.295112    0.625851  ...    2.355    2.8000     3.88\n",
              "Flavanoids            178.0    2.029270    0.998859  ...    2.135    2.8750     5.08\n",
              "Nonflavanoid_Phenols  178.0    0.361854    0.124453  ...    0.340    0.4375     0.66\n",
              "Proanthocyanins       178.0    1.590899    0.572359  ...    1.555    1.9500     3.58\n",
              "Color_Intensity       178.0    5.058090    2.318286  ...    4.690    6.2000    13.00\n",
              "Hue                   178.0    0.957449    0.228572  ...    0.965    1.1200     1.71\n",
              "OD280                 178.0    2.611685    0.709990  ...    2.780    3.1700     4.00\n",
              "Proline               178.0  746.893258  314.907474  ...  673.500  985.0000  1680.00\n",
              "\n",
              "[13 rows x 8 columns]"
            ]
          },
          "metadata": {
            "tags": []
          },
          "execution_count": 6
        }
      ]
    },
    {
      "cell_type": "code",
      "metadata": {
        "colab": {
          "base_uri": "https://localhost:8080/"
        },
        "id": "8PKaK0C8ch4b",
        "outputId": "608f6e93-1784-4029-ac59-799609d840ff"
      },
      "source": [
        "df.isna().sum()"
      ],
      "execution_count": null,
      "outputs": [
        {
          "output_type": "execute_result",
          "data": {
            "text/plain": [
              "Alcohol                 0\n",
              "Malic_Acid              0\n",
              "Ash                     0\n",
              "Ash_Alcanity            0\n",
              "Magnesium               0\n",
              "Total_Phenols           0\n",
              "Flavanoids              0\n",
              "Nonflavanoid_Phenols    0\n",
              "Proanthocyanins         0\n",
              "Color_Intensity         0\n",
              "Hue                     0\n",
              "OD280                   0\n",
              "Proline                 0\n",
              "dtype: int64"
            ]
          },
          "metadata": {
            "tags": []
          },
          "execution_count": 5
        }
      ]
    },
    {
      "cell_type": "markdown",
      "metadata": {
        "id": "nX2ywhi5ow4h"
      },
      "source": [
        "##*'Float'ing* Everything"
      ]
    },
    {
      "cell_type": "code",
      "metadata": {
        "colab": {
          "base_uri": "https://localhost:8080/",
          "height": 204
        },
        "id": "klJwzS1DtI3P",
        "outputId": "da2ef119-288b-482b-c182-d9182d1bb18a"
      },
      "source": [
        "df.astype('float64')\r\n",
        "df.head()"
      ],
      "execution_count": 7,
      "outputs": [
        {
          "output_type": "execute_result",
          "data": {
            "text/html": [
              "<div>\n",
              "<style scoped>\n",
              "    .dataframe tbody tr th:only-of-type {\n",
              "        vertical-align: middle;\n",
              "    }\n",
              "\n",
              "    .dataframe tbody tr th {\n",
              "        vertical-align: top;\n",
              "    }\n",
              "\n",
              "    .dataframe thead th {\n",
              "        text-align: right;\n",
              "    }\n",
              "</style>\n",
              "<table border=\"1\" class=\"dataframe\">\n",
              "  <thead>\n",
              "    <tr style=\"text-align: right;\">\n",
              "      <th></th>\n",
              "      <th>Alcohol</th>\n",
              "      <th>Malic_Acid</th>\n",
              "      <th>Ash</th>\n",
              "      <th>Ash_Alcanity</th>\n",
              "      <th>Magnesium</th>\n",
              "      <th>Total_Phenols</th>\n",
              "      <th>Flavanoids</th>\n",
              "      <th>Nonflavanoid_Phenols</th>\n",
              "      <th>Proanthocyanins</th>\n",
              "      <th>Color_Intensity</th>\n",
              "      <th>Hue</th>\n",
              "      <th>OD280</th>\n",
              "      <th>Proline</th>\n",
              "    </tr>\n",
              "  </thead>\n",
              "  <tbody>\n",
              "    <tr>\n",
              "      <th>0</th>\n",
              "      <td>14.23</td>\n",
              "      <td>1.71</td>\n",
              "      <td>2.43</td>\n",
              "      <td>15.6</td>\n",
              "      <td>127</td>\n",
              "      <td>2.80</td>\n",
              "      <td>3.06</td>\n",
              "      <td>0.28</td>\n",
              "      <td>2.29</td>\n",
              "      <td>5.64</td>\n",
              "      <td>1.04</td>\n",
              "      <td>3.92</td>\n",
              "      <td>1065</td>\n",
              "    </tr>\n",
              "    <tr>\n",
              "      <th>1</th>\n",
              "      <td>13.20</td>\n",
              "      <td>1.78</td>\n",
              "      <td>2.14</td>\n",
              "      <td>11.2</td>\n",
              "      <td>100</td>\n",
              "      <td>2.65</td>\n",
              "      <td>2.76</td>\n",
              "      <td>0.26</td>\n",
              "      <td>1.28</td>\n",
              "      <td>4.38</td>\n",
              "      <td>1.05</td>\n",
              "      <td>3.40</td>\n",
              "      <td>1050</td>\n",
              "    </tr>\n",
              "    <tr>\n",
              "      <th>2</th>\n",
              "      <td>13.16</td>\n",
              "      <td>2.36</td>\n",
              "      <td>2.67</td>\n",
              "      <td>18.6</td>\n",
              "      <td>101</td>\n",
              "      <td>2.80</td>\n",
              "      <td>3.24</td>\n",
              "      <td>0.30</td>\n",
              "      <td>2.81</td>\n",
              "      <td>5.68</td>\n",
              "      <td>1.03</td>\n",
              "      <td>3.17</td>\n",
              "      <td>1185</td>\n",
              "    </tr>\n",
              "    <tr>\n",
              "      <th>3</th>\n",
              "      <td>14.37</td>\n",
              "      <td>1.95</td>\n",
              "      <td>2.50</td>\n",
              "      <td>16.8</td>\n",
              "      <td>113</td>\n",
              "      <td>3.85</td>\n",
              "      <td>3.49</td>\n",
              "      <td>0.24</td>\n",
              "      <td>2.18</td>\n",
              "      <td>7.80</td>\n",
              "      <td>0.86</td>\n",
              "      <td>3.45</td>\n",
              "      <td>1480</td>\n",
              "    </tr>\n",
              "    <tr>\n",
              "      <th>4</th>\n",
              "      <td>13.24</td>\n",
              "      <td>2.59</td>\n",
              "      <td>2.87</td>\n",
              "      <td>21.0</td>\n",
              "      <td>118</td>\n",
              "      <td>2.80</td>\n",
              "      <td>2.69</td>\n",
              "      <td>0.39</td>\n",
              "      <td>1.82</td>\n",
              "      <td>4.32</td>\n",
              "      <td>1.04</td>\n",
              "      <td>2.93</td>\n",
              "      <td>735</td>\n",
              "    </tr>\n",
              "  </tbody>\n",
              "</table>\n",
              "</div>"
            ],
            "text/plain": [
              "   Alcohol  Malic_Acid   Ash  ...   Hue  OD280  Proline\n",
              "0    14.23        1.71  2.43  ...  1.04   3.92     1065\n",
              "1    13.20        1.78  2.14  ...  1.05   3.40     1050\n",
              "2    13.16        2.36  2.67  ...  1.03   3.17     1185\n",
              "3    14.37        1.95  2.50  ...  0.86   3.45     1480\n",
              "4    13.24        2.59  2.87  ...  1.04   2.93      735\n",
              "\n",
              "[5 rows x 13 columns]"
            ]
          },
          "metadata": {
            "tags": []
          },
          "execution_count": 7
        }
      ]
    },
    {
      "cell_type": "markdown",
      "metadata": {
        "id": "HmhqkTHq3MJK"
      },
      "source": [
        "##Fungsi Normalisasi"
      ]
    },
    {
      "cell_type": "code",
      "metadata": {
        "id": "LNP5QZzZogxJ"
      },
      "source": [
        "def normal(x):\r\n",
        "  return (x-x.min()) / (x.max()-x.min())"
      ],
      "execution_count": 8,
      "outputs": []
    },
    {
      "cell_type": "markdown",
      "metadata": {
        "id": "xJg-msI33QoU"
      },
      "source": [
        "##Menormalisasi Data"
      ]
    },
    {
      "cell_type": "code",
      "metadata": {
        "id": "dtr4HVGW1dUp"
      },
      "source": [
        "col = list(df.columns)\r\n",
        "for i in range(len(col)):\r\n",
        "  df[[col[i]]] = df[[col[i]]].apply(normal)"
      ],
      "execution_count": 9,
      "outputs": []
    },
    {
      "cell_type": "code",
      "metadata": {
        "colab": {
          "base_uri": "https://localhost:8080/",
          "height": 224
        },
        "id": "sgO03GOP1_a0",
        "outputId": "9a51e6ae-0e80-4a46-e06b-bd96e1ec0b59"
      },
      "source": [
        "df.head()"
      ],
      "execution_count": 10,
      "outputs": [
        {
          "output_type": "execute_result",
          "data": {
            "text/html": [
              "<div>\n",
              "<style scoped>\n",
              "    .dataframe tbody tr th:only-of-type {\n",
              "        vertical-align: middle;\n",
              "    }\n",
              "\n",
              "    .dataframe tbody tr th {\n",
              "        vertical-align: top;\n",
              "    }\n",
              "\n",
              "    .dataframe thead th {\n",
              "        text-align: right;\n",
              "    }\n",
              "</style>\n",
              "<table border=\"1\" class=\"dataframe\">\n",
              "  <thead>\n",
              "    <tr style=\"text-align: right;\">\n",
              "      <th></th>\n",
              "      <th>Alcohol</th>\n",
              "      <th>Malic_Acid</th>\n",
              "      <th>Ash</th>\n",
              "      <th>Ash_Alcanity</th>\n",
              "      <th>Magnesium</th>\n",
              "      <th>Total_Phenols</th>\n",
              "      <th>Flavanoids</th>\n",
              "      <th>Nonflavanoid_Phenols</th>\n",
              "      <th>Proanthocyanins</th>\n",
              "      <th>Color_Intensity</th>\n",
              "      <th>Hue</th>\n",
              "      <th>OD280</th>\n",
              "      <th>Proline</th>\n",
              "    </tr>\n",
              "  </thead>\n",
              "  <tbody>\n",
              "    <tr>\n",
              "      <th>0</th>\n",
              "      <td>0.842105</td>\n",
              "      <td>0.191700</td>\n",
              "      <td>0.572193</td>\n",
              "      <td>0.257732</td>\n",
              "      <td>0.619565</td>\n",
              "      <td>0.627586</td>\n",
              "      <td>0.573840</td>\n",
              "      <td>0.283019</td>\n",
              "      <td>0.593060</td>\n",
              "      <td>0.372014</td>\n",
              "      <td>0.455285</td>\n",
              "      <td>0.970696</td>\n",
              "      <td>0.561341</td>\n",
              "    </tr>\n",
              "    <tr>\n",
              "      <th>1</th>\n",
              "      <td>0.571053</td>\n",
              "      <td>0.205534</td>\n",
              "      <td>0.417112</td>\n",
              "      <td>0.030928</td>\n",
              "      <td>0.326087</td>\n",
              "      <td>0.575862</td>\n",
              "      <td>0.510549</td>\n",
              "      <td>0.245283</td>\n",
              "      <td>0.274448</td>\n",
              "      <td>0.264505</td>\n",
              "      <td>0.463415</td>\n",
              "      <td>0.780220</td>\n",
              "      <td>0.550642</td>\n",
              "    </tr>\n",
              "    <tr>\n",
              "      <th>2</th>\n",
              "      <td>0.560526</td>\n",
              "      <td>0.320158</td>\n",
              "      <td>0.700535</td>\n",
              "      <td>0.412371</td>\n",
              "      <td>0.336957</td>\n",
              "      <td>0.627586</td>\n",
              "      <td>0.611814</td>\n",
              "      <td>0.320755</td>\n",
              "      <td>0.757098</td>\n",
              "      <td>0.375427</td>\n",
              "      <td>0.447154</td>\n",
              "      <td>0.695971</td>\n",
              "      <td>0.646933</td>\n",
              "    </tr>\n",
              "    <tr>\n",
              "      <th>3</th>\n",
              "      <td>0.878947</td>\n",
              "      <td>0.239130</td>\n",
              "      <td>0.609626</td>\n",
              "      <td>0.319588</td>\n",
              "      <td>0.467391</td>\n",
              "      <td>0.989655</td>\n",
              "      <td>0.664557</td>\n",
              "      <td>0.207547</td>\n",
              "      <td>0.558360</td>\n",
              "      <td>0.556314</td>\n",
              "      <td>0.308943</td>\n",
              "      <td>0.798535</td>\n",
              "      <td>0.857347</td>\n",
              "    </tr>\n",
              "    <tr>\n",
              "      <th>4</th>\n",
              "      <td>0.581579</td>\n",
              "      <td>0.365613</td>\n",
              "      <td>0.807487</td>\n",
              "      <td>0.536082</td>\n",
              "      <td>0.521739</td>\n",
              "      <td>0.627586</td>\n",
              "      <td>0.495781</td>\n",
              "      <td>0.490566</td>\n",
              "      <td>0.444795</td>\n",
              "      <td>0.259386</td>\n",
              "      <td>0.455285</td>\n",
              "      <td>0.608059</td>\n",
              "      <td>0.325963</td>\n",
              "    </tr>\n",
              "  </tbody>\n",
              "</table>\n",
              "</div>"
            ],
            "text/plain": [
              "    Alcohol  Malic_Acid       Ash  ...       Hue     OD280   Proline\n",
              "0  0.842105    0.191700  0.572193  ...  0.455285  0.970696  0.561341\n",
              "1  0.571053    0.205534  0.417112  ...  0.463415  0.780220  0.550642\n",
              "2  0.560526    0.320158  0.700535  ...  0.447154  0.695971  0.646933\n",
              "3  0.878947    0.239130  0.609626  ...  0.308943  0.798535  0.857347\n",
              "4  0.581579    0.365613  0.807487  ...  0.455285  0.608059  0.325963\n",
              "\n",
              "[5 rows x 13 columns]"
            ]
          },
          "metadata": {
            "tags": []
          },
          "execution_count": 10
        }
      ]
    },
    {
      "cell_type": "markdown",
      "metadata": {
        "id": "9emGwfPdXZGG"
      },
      "source": [
        "##VISUALISASI DATA"
      ]
    },
    {
      "cell_type": "code",
      "metadata": {
        "colab": {
          "base_uri": "https://localhost:8080/",
          "height": 265
        },
        "id": "uGp1Sk7yI1nq",
        "outputId": "364769ba-752a-4600-951f-3190c714185f"
      },
      "source": [
        "from sklearn.decomposition import PCA\r\n",
        "pca = PCA(n_components=2).fit(df)\r\n",
        "pca_2d = pca.transform(df)\r\n",
        "plt.scatter(pca_2d[:,0],pca_2d[:,1],c='black')\r\n",
        "plt.show()"
      ],
      "execution_count": 11,
      "outputs": [
        {
          "output_type": "display_data",
          "data": {
            "image/png": "[encoded data removed]",
            "text/plain": [
              "<Figure size 432x288 with 1 Axes>"
            ]
          },
          "metadata": {
            "tags": [],
            "needs_background": "light"
          }
        }
      ]
    },
    {
      "cell_type": "markdown",
      "metadata": {
        "id": "Crd4G2nLXds8"
      },
      "source": [
        "#FUNGSI CLUSTERISASI"
      ]
    },
    {
      "cell_type": "markdown",
      "metadata": {
        "id": "JOvvBbq6Xgiz"
      },
      "source": [
        "##PILIH INDEX CENTROID"
      ]
    },
    {
      "cell_type": "code",
      "metadata": {
        "id": "nYcB1oQnXuNL"
      },
      "source": [
        "def centroidindexpick(k,dfnya):\r\n",
        "  return np.random.choice(len(dfnya['Ash']),k, replace=False)"
      ],
      "execution_count": 12,
      "outputs": []
    },
    {
      "cell_type": "markdown",
      "metadata": {
        "id": "uwyYUdvRc1eZ"
      },
      "source": [
        "##AMBIL DATA CENTROID"
      ]
    },
    {
      "cell_type": "code",
      "metadata": {
        "id": "Aufi7J4jYjjL"
      },
      "source": [
        "def centroidpick(key,dfq):\r\n",
        "  k = centroidindexpick(key,dfq)\r\n",
        "  centroid = []\r\n",
        "  for i in k:\r\n",
        "    centroid.append([i,list(dfq.iloc[i])])\r\n",
        "  return centroid\r\n"
      ],
      "execution_count": 13,
      "outputs": []
    },
    {
      "cell_type": "markdown",
      "metadata": {
        "id": "CzINVCOAc5BW"
      },
      "source": [
        "##MENENTUKAN JARAK"
      ]
    },
    {
      "cell_type": "code",
      "metadata": {
        "id": "3lHMbPb8jSbQ"
      },
      "source": [
        "def euclidean(kiri,kanan):\r\n",
        "  sum = 0\r\n",
        "  for i in range(len(kiri)):\r\n",
        "    sum = sum + (kiri[i]-kanan[i])**2\r\n",
        "  return np.sqrt(sum)"
      ],
      "execution_count": 14,
      "outputs": []
    },
    {
      "cell_type": "code",
      "metadata": {
        "id": "chINyCLyXgp8"
      },
      "source": [
        "def jarak(dfww, centroid):\r\n",
        "  pilihcluster = []\r\n",
        "  for i in range(len(centroid)):\r\n",
        "    temp =[]\r\n",
        "    for j in range(len(list(dfww['Ash']))):\r\n",
        "      p1 = centroid[i][1]\r\n",
        "      p2 = list(dfww.iloc[j])\r\n",
        "      temp.append([str(i),euclidean(p1,p2)])\r\n",
        "    pilihcluster.append(temp)\r\n",
        "  return pilihcluster\r\n"
      ],
      "execution_count": 15,
      "outputs": []
    },
    {
      "cell_type": "markdown",
      "metadata": {
        "id": "tmKTOKMHdbyo"
      },
      "source": [
        "##MEMILIH CLUSTER"
      ]
    },
    {
      "cell_type": "code",
      "metadata": {
        "id": "ugS7EsJpcFMW"
      },
      "source": [
        "def pilihcluster(jarak):\r\n",
        "  clusternya=[]\r\n",
        "  elbow = []\r\n",
        "\r\n",
        "  for i in range(len(jarak[0])):\r\n",
        "    pilihjarak = []\r\n",
        "    pilihclusterjarak = []\r\n",
        "    for j in range(len(jarak)):\r\n",
        "      pilihclusterjarak.append(jarak[j][i])\r\n",
        "      #print(pilihclusterjarak)\r\n",
        "      pilihjarak.append(jarak[j][i][1])\r\n",
        "    a = min(pilihjarak)\r\n",
        "    #print(a)\r\n",
        "    for k in range(len(pilihclusterjarak)):\r\n",
        "      if a in pilihclusterjarak[k]:\r\n",
        "        clusternya.append(int(pilihclusterjarak[k][0]))\r\n",
        "        elbow.append(pilihclusterjarak[k][1]**2)\r\n",
        "        #print(clusternya)\r\n",
        "        break\r\n",
        "    elbownya = sum(elbow)\r\n",
        "  return clusternya,elbownya\r\n"
      ],
      "execution_count": 16,
      "outputs": []
    },
    {
      "cell_type": "markdown",
      "metadata": {
        "id": "fcfyfc9747ik"
      },
      "source": [
        "##FUNGSI ITERASI CLUSTERING"
      ]
    },
    {
      "cell_type": "code",
      "metadata": {
        "id": "o5oUuPQ746-R"
      },
      "source": [
        "def clusterit(dfg,k,centroid):\r\n",
        "  clust = jarak(dfg,centroid)\r\n",
        "  cluster,elbow = pilihcluster(clust)\r\n",
        "  dfgx = dfg\r\n",
        "  dfgx.insert(13,'cluster',cluster)\r\n",
        "  df3 = dfgx.groupby('cluster').mean()\r\n",
        "  df3.reset_index\r\n",
        "  #display(df3)\r\n",
        "  barucentroid = []\r\n",
        "  for i in range(k):\r\n",
        "    barucentroid.append([i,list(df3.iloc[i])])\r\n",
        "    #display(barucentroid)\r\n",
        "   # print(barucentroid)\r\n",
        "  return barucentroid"
      ],
      "execution_count": 17,
      "outputs": []
    },
    {
      "cell_type": "markdown",
      "metadata": {
        "id": "8z5rjPlgBjGr"
      },
      "source": [
        "##FUNGSI CLUSTERING K OPTIMUM"
      ]
    },
    {
      "cell_type": "code",
      "metadata": {
        "id": "9LXXKNbsBr6L"
      },
      "source": [
        "def clusterfix(df2,k,centroid):\r\n",
        "  clust = jarak(df2,centroid)\r\n",
        "  cluster,elbow = pilihcluster(clust)\r\n",
        "  df21 = df2\r\n",
        "  df21.insert(13,'cluster',cluster)\r\n",
        "  df3 = df21.groupby('cluster').mean()\r\n",
        "  df3.reset_index\r\n",
        "  #display(df3)\r\n",
        "  barucentroid = []\r\n",
        "  for i in range(k):\r\n",
        "    barucentroid.append([i,list(df3.iloc[i])])\r\n",
        "  return df2, barucentroid,elbow"
      ],
      "execution_count": 18,
      "outputs": []
    },
    {
      "cell_type": "markdown",
      "metadata": {
        "id": "Mso-aEEn43Ir"
      },
      "source": [
        "#CLUSTERISASI"
      ]
    },
    {
      "cell_type": "markdown",
      "metadata": {
        "id": "9cqsGWTFkUoK"
      },
      "source": [
        "#####JIKA TERJADI ERROR SAAT RUNNING"
      ]
    },
    {
      "cell_type": "code",
      "metadata": {
        "id": "mCGTSD5ufz9e"
      },
      "source": [
        "df = df.drop('cluster',axis=1)"
      ],
      "execution_count": null,
      "outputs": []
    },
    {
      "cell_type": "code",
      "metadata": {
        "id": "dnt5hZkqlF00"
      },
      "source": [
        "df = pd.read_csv('wine-clustering.csv')\r\n",
        "df.astype('float64')\r\n",
        "def normal(x):\r\n",
        "  return (x-x.min()) / (x.max()-x.min())\r\n",
        "col = list(df.columns)\r\n",
        "for i in range(len(col)):\r\n",
        "  df[[col[i]]] = df[[col[i]]].apply(normal)"
      ],
      "execution_count": null,
      "outputs": []
    },
    {
      "cell_type": "markdown",
      "metadata": {
        "id": "DGl-BIqWBJ47"
      },
      "source": [
        "##Memilih K yang paling optimal\r\n",
        "\r\n"
      ]
    },
    {
      "cell_type": "code",
      "metadata": {
        "colab": {
          "base_uri": "https://localhost:8080/",
          "height": 530
        },
        "id": "k5r7rzsi45jT",
        "outputId": "d64a0d50-da57-41a7-99c1-f3585cb16661"
      },
      "source": [
        "a  = int(input('Jumlah iterasi K = ')) +1\r\n",
        "elbowgraph =[]\r\n",
        "for i in range(1,a):\r\n",
        "  #print(i)\r\n",
        "  centx = centroidpick(i,df)\r\n",
        "  newcent = clusterit(df,i,centx)\r\n",
        "  while (centx != newcent):\r\n",
        "    centx = newcent\r\n",
        "    df = df.drop('cluster',axis=1)\r\n",
        "    newcent = clusterit(df,i,centx)\r\n",
        "  df = df.drop('cluster',axis=1)\r\n",
        "  dfnew,fixcent,elbow = clusterfix(df,i,centx)\r\n",
        "  elbowgraph.append(elbow)\r\n",
        "  df = df.drop('cluster',axis=1)\r\n",
        "\r\n",
        "fig, ax = plt.subplots(figsize=(16,8))\r\n",
        "ax.set_title('Grafik Elbow')\r\n",
        "graphX = np.arange(1,a)\r\n",
        "ax.plot(graphX,elbowgraph,color='b',label = 'nilai WCSS')\r\n",
        "b = [elbowgraph[0],elbowgraph[a-2]]\r\n",
        "c = [1,a-1]\r\n",
        "ax.plot(c,b, color='red', ls='dashed')\r\n",
        "ax.set_xlabel('nilai k')\r\n",
        "ax.set_ylabel('WCSS')\r\n",
        "plt.show()\r\n"
      ],
      "execution_count": 25,
      "outputs": [
        {
          "output_type": "stream",
          "text": [
            "Jumlah iterasi K = 10\n"
          ],
          "name": "stdout"
        },
        {
          "output_type": "display_data",
          "data": {
            "image/png": "[encoded data removed]",
            "text/plain": [
              "<Figure size 1152x576 with 1 Axes>"
            ]
          },
          "metadata": {
            "tags": [],
            "needs_background": "light"
          }
        }
      ]
    },
    {
      "cell_type": "markdown",
      "metadata": {
        "id": "bTQBm2Yzdamo"
      },
      "source": [
        "##CLUSTERING DENGAN K = 3"
      ]
    },
    {
      "cell_type": "code",
      "metadata": {
        "colab": {
          "base_uri": "https://localhost:8080/",
          "height": 498
        },
        "id": "t8LkDPGOdUxJ",
        "outputId": "b1209a43-e95a-4e3c-df5d-e6799cc89c30"
      },
      "source": [
        "import seaborn as sns\r\n",
        "k= 3\r\n",
        "centx = centroidpick(k,df)\r\n",
        "newcent = clusterit(df,k,centx)\r\n",
        "while (centx != newcent):\r\n",
        "  centx = newcent\r\n",
        "  df = df.drop('cluster',axis=1)\r\n",
        "  newcent = clusterit(df,k,centx)\r\n",
        "df = df.drop('cluster',axis=1)\r\n",
        "dfnew,fixcent,elbow = clusterfix(df,k,centx)\r\n",
        "df = df.drop('cluster',axis=1)\r\n",
        "\r\n",
        "#  PLOTTING\r\n",
        "\r\n",
        "pca = PCA(n_components=2).fit(df)\r\n",
        "pca_2d = pca.transform(df)\r\n",
        "clusterx  =list(dfnew['cluster'])\r\n",
        "aa,ab,ba,bb,ca,cb =[],[],[],[],[],[]\r\n",
        "for i in range (len(pca_2d[:,0])):\r\n",
        "  if clusterx[i] == 0:\r\n",
        "    aa.append(pca_2d[i,0])\r\n",
        "    ab.append(pca_2d[i,1])\r\n",
        "  elif clusterx[i] == 1:\r\n",
        "    ba.append(pca_2d[i,0])\r\n",
        "    bb.append(pca_2d[i,1])\r\n",
        "  elif clusterx[i] == 2:\r\n",
        "    ca.append(pca_2d[i,0])\r\n",
        "    cb.append(pca_2d[i,1]) \r\n",
        "\r\n",
        "\r\n",
        "d = {0: fixcent[0][1], 1: fixcent[1][1], 2:fixcent[2][1]}\r\n",
        "centnyaa = pd.DataFrame(d)\r\n",
        "centnyaa = centnyaa.T\r\n",
        "\r\n",
        "pca2 = PCA(n_components=2).fit(centnyaa)\r\n",
        "pcacent = pca.transform(centnyaa)\r\n",
        "fig, ax = plt.subplots(figsize=(16,8))\r\n",
        "ax.set_title('Wine Dataset')\r\n",
        "plt.style.use('seaborn')\r\n",
        "ax.scatter(aa,ab,c='green')\r\n",
        "ax.scatter(ba,bb,c='blue')\r\n",
        "ax.scatter(ca,cb,c='red')\r\n",
        "ax.scatter(pcacent[:,0],pcacent[:,1], marker='x',color ='black')\r\n",
        "plt.show()\r\n"
      ],
      "execution_count": 32,
      "outputs": [
        {
          "output_type": "display_data",
          "data": {
            "image/png": "[encoded data removed]",
            "text/plain": [
              "<Figure size 1152x576 with 1 Axes>"
            ]
          },
          "metadata": {
            "tags": []
          }
        }
      ]
    },
    {
      "cell_type": "markdown",
      "metadata": {
        "id": "we9t3n-fO7Ci"
      },
      "source": [
        "##Jumlah Klaster"
      ]
    },
    {
      "cell_type": "code",
      "metadata": {
        "colab": {
          "base_uri": "https://localhost:8080/"
        },
        "id": "sMwyzEPpHukx",
        "outputId": "3fd50349-d819-4892-80af-e4da76f53d69"
      },
      "source": [
        "dfnew['cluster'].value_counts()"
      ],
      "execution_count": 43,
      "outputs": [
        {
          "output_type": "execute_result",
          "data": {
            "text/plain": [
              "0    63\n",
              "1    60\n",
              "2    55\n",
              "Name: cluster, dtype: int64"
            ]
          },
          "metadata": {
            "tags": []
          },
          "execution_count": 43
        }
      ]
    }
  ]
}